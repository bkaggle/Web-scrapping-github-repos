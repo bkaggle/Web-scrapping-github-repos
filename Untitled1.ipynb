{
 "cells": [
  {
   "cell_type": "markdown",
   "id": "d958ad2f",
   "metadata": {},
   "source": [
    "# Top Repositeries for Github topics-Python Web Scraping Project"
   ]
  },
  {
   "cell_type": "markdown",
   "id": "d7a22d8b",
   "metadata": {},
   "source": [
    "# ## Pick a website and describe your objective\n",
    "- Browse through different sites and pick on to scrape. \n",
    "- Check the \"Project Ideas\" section for inspiration.\n",
    "- Identify the information you'd like to scrape from the site. Decide the format of the output CSV file.\n",
    "- Summarize your project idea and outline your strategy in a Juptyer notebook. Use the \"New\" button above."
   ]
  },
  {
   "cell_type": "markdown",
   "id": "602bb838",
   "metadata": {},
   "source": [
    "# ## Project outline:\n",
    " - We're going to scrape https://github.com/topics\n",
    " - we'll get a list of topics. For each topic,we'll get topic title,topic page URL and topic description \n",
    " -For each topic,we'll get the top 25 repositories in the topic from topic page\n",
    " -For each repository, we'll grab the repo name,username,stars and repo URl\n",
    " -For each topic we'll create a csv file in the following format:\n",
    " \n",
    "  Repo name,username,stars,Repo URL\n",
    "  \n",
    "  infinite-scroll,metafizzy,7000,https://github.com/metafizzy/infinite-scroll"
   ]
  },
  {
   "cell_type": "markdown",
   "id": "4fcdad31",
   "metadata": {},
   "source": [
    "# ## Use the requests library to download web pages\n",
    "Inspect the website's HTML source and identify the right URLs to download.\n",
    "Download and save web pages locally using the requests library.\n",
    "Create a function to automate downloading for different topics/search queries."
   ]
  },
  {
   "cell_type": "code",
   "execution_count": null,
   "id": "4bc60446",
   "metadata": {},
   "outputs": [],
   "source": []
  },
  {
   "cell_type": "code",
   "execution_count": 1,
   "id": "14116947",
   "metadata": {},
   "outputs": [],
   "source": [
    "#request\n",
    "!pip install jovian --upgrade --quiet"
   ]
  },
  {
   "cell_type": "code",
   "execution_count": 2,
   "id": "18076ac4",
   "metadata": {},
   "outputs": [],
   "source": [
    "import jovian"
   ]
  },
  {
   "cell_type": "code",
   "execution_count": 3,
   "id": "3b72cd3a",
   "metadata": {},
   "outputs": [],
   "source": [
    "!pip install requests --upgrade --quiet"
   ]
  },
  {
   "cell_type": "code",
   "execution_count": 4,
   "id": "e152e63b",
   "metadata": {},
   "outputs": [],
   "source": [
    "import requests"
   ]
  },
  {
   "cell_type": "code",
   "execution_count": 5,
   "id": "22842985",
   "metadata": {},
   "outputs": [],
   "source": [
    "topic_url='https://github.com/topics'"
   ]
  },
  {
   "cell_type": "code",
   "execution_count": 6,
   "id": "ce1f4ea3",
   "metadata": {},
   "outputs": [],
   "source": [
    "response=requests.get(topic_url)"
   ]
  },
  {
   "cell_type": "code",
   "execution_count": 7,
   "id": "b3a81251",
   "metadata": {},
   "outputs": [
    {
     "data": {
      "text/plain": [
       "200"
      ]
     },
     "execution_count": 7,
     "metadata": {},
     "output_type": "execute_result"
    }
   ],
   "source": [
    "response.status_code"
   ]
  },
  {
   "cell_type": "code",
   "execution_count": 8,
   "id": "83a27ace",
   "metadata": {},
   "outputs": [],
   "source": [
    "page_contents=response.text"
   ]
  },
  {
   "cell_type": "code",
   "execution_count": 9,
   "id": "8bdc88bf",
   "metadata": {},
   "outputs": [
    {
     "data": {
      "text/plain": [
       "146850"
      ]
     },
     "execution_count": 9,
     "metadata": {},
     "output_type": "execute_result"
    }
   ],
   "source": [
    "len(page_contents)"
   ]
  },
  {
   "cell_type": "code",
   "execution_count": 10,
   "id": "f9e8bb0f",
   "metadata": {},
   "outputs": [
    {
     "data": {
      "text/plain": [
       "'\\n\\n<!DOCTYPE html>\\n<html lang=\"en\" data-color-mode=\"auto\" data-light-theme=\"light\" data-dark-theme=\"d'"
      ]
     },
     "execution_count": 10,
     "metadata": {},
     "output_type": "execute_result"
    }
   ],
   "source": [
    "page_contents[:100]"
   ]
  },
  {
   "cell_type": "code",
   "execution_count": 11,
   "id": "05d93a8c",
   "metadata": {},
   "outputs": [],
   "source": [
    "with open(\"webpage.html\",'w') as f:\n",
    "    f.write(page_contents)"
   ]
  },
  {
   "cell_type": "markdown",
   "id": "d39497d4",
   "metadata": {},
   "source": [
    "# ## Use Beautiful Soup to parse and extract information\n",
    "- Parse and explore the structure of downloaded web pages using Beautiful soup.\n",
    "- Use the right properties and methods to extract the required information.\n",
    "- Create functions to extract from the page into lists and dictionaries.\n",
    "- (Optional) Use a REST API to acquire additional information if required."
   ]
  },
  {
   "cell_type": "code",
   "execution_count": null,
   "id": "b987f87d",
   "metadata": {},
   "outputs": [],
   "source": []
  },
  {
   "cell_type": "code",
   "execution_count": 12,
   "id": "7780d3f2",
   "metadata": {},
   "outputs": [
    {
     "name": "stdout",
     "output_type": "stream",
     "text": [
      "\r\n",
      "Usage:   \r\n",
      "  pip install [options] <requirement specifier> [package-index-options] ...\r\n",
      "  pip install [options] -r <requirements file> [package-index-options] ...\r\n",
      "  pip install [options] [-e] <vcs project url> ...\r\n",
      "  pip install [options] [-e] <local project path> ...\r\n",
      "  pip install [options] <archive url/path> ...\r\n",
      "\r\n",
      "no such option: --exit\r\n"
     ]
    }
   ],
   "source": [
    "#parsing and extracting using beautifulsoup\n",
    "!pip install beautifulsoup4 --upgrade --exit"
   ]
  },
  {
   "cell_type": "code",
   "execution_count": 13,
   "id": "53da3ee2",
   "metadata": {},
   "outputs": [],
   "source": [
    "from bs4 import BeautifulSoup\n",
    "doc = BeautifulSoup(page_contents, 'html.parser')"
   ]
  },
  {
   "cell_type": "code",
   "execution_count": 14,
   "id": "33e99902",
   "metadata": {},
   "outputs": [],
   "source": [
    "topic_title_tags=doc.find_all('p',{'class':'f3 lh-condensed mb-0 mt-1 Link--primary'})"
   ]
  },
  {
   "cell_type": "code",
   "execution_count": 15,
   "id": "51765637",
   "metadata": {},
   "outputs": [
    {
     "data": {
      "text/plain": [
       "[<p class=\"f3 lh-condensed mb-0 mt-1 Link--primary\">3D</p>,\n",
       " <p class=\"f3 lh-condensed mb-0 mt-1 Link--primary\">Ajax</p>,\n",
       " <p class=\"f3 lh-condensed mb-0 mt-1 Link--primary\">Algorithm</p>,\n",
       " <p class=\"f3 lh-condensed mb-0 mt-1 Link--primary\">Amp</p>,\n",
       " <p class=\"f3 lh-condensed mb-0 mt-1 Link--primary\">Android</p>,\n",
       " <p class=\"f3 lh-condensed mb-0 mt-1 Link--primary\">Angular</p>,\n",
       " <p class=\"f3 lh-condensed mb-0 mt-1 Link--primary\">Ansible</p>,\n",
       " <p class=\"f3 lh-condensed mb-0 mt-1 Link--primary\">API</p>,\n",
       " <p class=\"f3 lh-condensed mb-0 mt-1 Link--primary\">Arduino</p>,\n",
       " <p class=\"f3 lh-condensed mb-0 mt-1 Link--primary\">ASP.NET</p>,\n",
       " <p class=\"f3 lh-condensed mb-0 mt-1 Link--primary\">Atom</p>,\n",
       " <p class=\"f3 lh-condensed mb-0 mt-1 Link--primary\">Awesome Lists</p>,\n",
       " <p class=\"f3 lh-condensed mb-0 mt-1 Link--primary\">Amazon Web Services</p>,\n",
       " <p class=\"f3 lh-condensed mb-0 mt-1 Link--primary\">Azure</p>,\n",
       " <p class=\"f3 lh-condensed mb-0 mt-1 Link--primary\">Babel</p>,\n",
       " <p class=\"f3 lh-condensed mb-0 mt-1 Link--primary\">Bash</p>,\n",
       " <p class=\"f3 lh-condensed mb-0 mt-1 Link--primary\">Bitcoin</p>,\n",
       " <p class=\"f3 lh-condensed mb-0 mt-1 Link--primary\">Bootstrap</p>,\n",
       " <p class=\"f3 lh-condensed mb-0 mt-1 Link--primary\">Bot</p>,\n",
       " <p class=\"f3 lh-condensed mb-0 mt-1 Link--primary\">C</p>,\n",
       " <p class=\"f3 lh-condensed mb-0 mt-1 Link--primary\">Chrome</p>,\n",
       " <p class=\"f3 lh-condensed mb-0 mt-1 Link--primary\">Chrome extension</p>,\n",
       " <p class=\"f3 lh-condensed mb-0 mt-1 Link--primary\">Command line interface</p>,\n",
       " <p class=\"f3 lh-condensed mb-0 mt-1 Link--primary\">Clojure</p>,\n",
       " <p class=\"f3 lh-condensed mb-0 mt-1 Link--primary\">Code quality</p>,\n",
       " <p class=\"f3 lh-condensed mb-0 mt-1 Link--primary\">Code review</p>,\n",
       " <p class=\"f3 lh-condensed mb-0 mt-1 Link--primary\">Compiler</p>,\n",
       " <p class=\"f3 lh-condensed mb-0 mt-1 Link--primary\">Continuous integration</p>,\n",
       " <p class=\"f3 lh-condensed mb-0 mt-1 Link--primary\">COVID-19</p>,\n",
       " <p class=\"f3 lh-condensed mb-0 mt-1 Link--primary\">C++</p>]"
      ]
     },
     "execution_count": 15,
     "metadata": {},
     "output_type": "execute_result"
    }
   ],
   "source": [
    "topic_title_tags"
   ]
  },
  {
   "cell_type": "code",
   "execution_count": 16,
   "id": "a8d04fde",
   "metadata": {},
   "outputs": [],
   "source": [
    "topic_desc_tags=doc.find_all('p',{'class':'f5 color-fg-muted mb-0 mt-1'})"
   ]
  },
  {
   "cell_type": "code",
   "execution_count": 17,
   "id": "f878e345",
   "metadata": {},
   "outputs": [
    {
     "data": {
      "text/plain": [
       "[<p class=\"f5 color-fg-muted mb-0 mt-1\">\n",
       "               3D modeling is the process of virtually developing the surface and structure of a 3D object.\n",
       "             </p>,\n",
       " <p class=\"f5 color-fg-muted mb-0 mt-1\">\n",
       "               Ajax is a technique for creating interactive web applications.\n",
       "             </p>,\n",
       " <p class=\"f5 color-fg-muted mb-0 mt-1\">\n",
       "               Algorithms are self-contained sequences that carry out a variety of tasks.\n",
       "             </p>,\n",
       " <p class=\"f5 color-fg-muted mb-0 mt-1\">\n",
       "               Amp is a non-blocking concurrency framework for PHP.\n",
       "             </p>,\n",
       " <p class=\"f5 color-fg-muted mb-0 mt-1\">\n",
       "               Android is an operating system built by Google designed for mobile devices.\n",
       "             </p>,\n",
       " <p class=\"f5 color-fg-muted mb-0 mt-1\">\n",
       "               Angular is an open source web application platform.\n",
       "             </p>,\n",
       " <p class=\"f5 color-fg-muted mb-0 mt-1\">\n",
       "               Ansible is a simple and powerful automation engine.\n",
       "             </p>,\n",
       " <p class=\"f5 color-fg-muted mb-0 mt-1\">\n",
       "               An API (Application Programming Interface) is a collection of protocols and subroutines for building software.\n",
       "             </p>,\n",
       " <p class=\"f5 color-fg-muted mb-0 mt-1\">\n",
       "               Arduino is an open source hardware and software company and maker community.\n",
       "             </p>,\n",
       " <p class=\"f5 color-fg-muted mb-0 mt-1\">\n",
       "               ASP.NET is a web framework for building modern web apps and services.\n",
       "             </p>,\n",
       " <p class=\"f5 color-fg-muted mb-0 mt-1\">\n",
       "               Atom is a open source text editor built with web technologies.\n",
       "             </p>,\n",
       " <p class=\"f5 color-fg-muted mb-0 mt-1\">\n",
       "               An awesome list is a list of awesome things curated by the community.\n",
       "             </p>,\n",
       " <p class=\"f5 color-fg-muted mb-0 mt-1\">\n",
       "               Amazon Web Services provides on-demand cloud computing platforms on a subscription basis.\n",
       "             </p>,\n",
       " <p class=\"f5 color-fg-muted mb-0 mt-1\">\n",
       "               Azure is a cloud computing service created by Microsoft.\n",
       "             </p>,\n",
       " <p class=\"f5 color-fg-muted mb-0 mt-1\">\n",
       "               Babel is a compiler for writing next generation JavaScript, today.\n",
       "             </p>,\n",
       " <p class=\"f5 color-fg-muted mb-0 mt-1\">\n",
       "               Bash is a shell and command language interpreter for the GNU operating system.\n",
       "             </p>,\n",
       " <p class=\"f5 color-fg-muted mb-0 mt-1\">\n",
       "               Bitcoin is a cryptocurrency developed by Satoshi Nakamoto.\n",
       "             </p>,\n",
       " <p class=\"f5 color-fg-muted mb-0 mt-1\">\n",
       "               Bootstrap is an HTML, CSS, and JavaScript framework.\n",
       "             </p>,\n",
       " <p class=\"f5 color-fg-muted mb-0 mt-1\">\n",
       "               A bot is an application that runs automated tasks over the Internet.\n",
       "             </p>,\n",
       " <p class=\"f5 color-fg-muted mb-0 mt-1\">\n",
       "               C is a general purpose programming language that first appeared in 1972.\n",
       "             </p>,\n",
       " <p class=\"f5 color-fg-muted mb-0 mt-1\">\n",
       "               Chrome is a web browser from the tech company Google.\n",
       "             </p>,\n",
       " <p class=\"f5 color-fg-muted mb-0 mt-1\">\n",
       "               Google Chrome Extensions are add-ons that allow users to customize their Chrome web browser.\n",
       "             </p>,\n",
       " <p class=\"f5 color-fg-muted mb-0 mt-1\">\n",
       "               A CLI, or command-line interface, is a console that helps users issue commands to a program.\n",
       "             </p>,\n",
       " <p class=\"f5 color-fg-muted mb-0 mt-1\">\n",
       "               Clojure is a dynamic, general-purpose programming language.\n",
       "             </p>,\n",
       " <p class=\"f5 color-fg-muted mb-0 mt-1\">\n",
       "               Automate your code review with style, quality, security, and test‑coverage checks when you need them.\n",
       "             </p>,\n",
       " <p class=\"f5 color-fg-muted mb-0 mt-1\">\n",
       "               Ensure your code meets quality standards and ship with confidence.\n",
       "             </p>,\n",
       " <p class=\"f5 color-fg-muted mb-0 mt-1\">\n",
       "               Compilers are software that translate higher-level programming languages to lower-level languages (e.g. machine code).\n",
       "             </p>,\n",
       " <p class=\"f5 color-fg-muted mb-0 mt-1\">\n",
       "               Automatically build and test your code as you push it upstream, preventing bugs from being deployed to production.\n",
       "             </p>,\n",
       " <p class=\"f5 color-fg-muted mb-0 mt-1\">\n",
       "               The coronavirus disease 2019 (COVID-19) is an infectious disease caused by SARS-CoV-2.\n",
       "             </p>,\n",
       " <p class=\"f5 color-fg-muted mb-0 mt-1\">\n",
       "               C++ is a general purpose and object-oriented programming language.\n",
       "             </p>]"
      ]
     },
     "execution_count": 17,
     "metadata": {},
     "output_type": "execute_result"
    }
   ],
   "source": [
    "topic_desc_tags"
   ]
  },
  {
   "cell_type": "code",
   "execution_count": 18,
   "id": "285a4644",
   "metadata": {},
   "outputs": [],
   "source": [
    "topic_url_tags=doc.find_all('a',{'class':'d-flex no-underline'})"
   ]
  },
  {
   "cell_type": "code",
   "execution_count": 19,
   "id": "6411d1ea",
   "metadata": {},
   "outputs": [
    {
     "data": {
      "text/plain": [
       "'/topics/3d'"
      ]
     },
     "execution_count": 19,
     "metadata": {},
     "output_type": "execute_result"
    }
   ],
   "source": [
    "topic_url_tags[0]['href']"
   ]
  },
  {
   "cell_type": "code",
   "execution_count": 20,
   "id": "a0a7202e",
   "metadata": {},
   "outputs": [],
   "source": [
    " \n",
    "topic_titles=[]\n",
    "for tag in topic_title_tags:\n",
    "    topic_titles.append(tag.text)"
   ]
  },
  {
   "cell_type": "code",
   "execution_count": 21,
   "id": "04a30758",
   "metadata": {
    "scrolled": true
   },
   "outputs": [
    {
     "data": {
      "text/plain": [
       "['3D',\n",
       " 'Ajax',\n",
       " 'Algorithm',\n",
       " 'Amp',\n",
       " 'Android',\n",
       " 'Angular',\n",
       " 'Ansible',\n",
       " 'API',\n",
       " 'Arduino',\n",
       " 'ASP.NET',\n",
       " 'Atom',\n",
       " 'Awesome Lists',\n",
       " 'Amazon Web Services',\n",
       " 'Azure',\n",
       " 'Babel',\n",
       " 'Bash',\n",
       " 'Bitcoin',\n",
       " 'Bootstrap',\n",
       " 'Bot',\n",
       " 'C',\n",
       " 'Chrome',\n",
       " 'Chrome extension',\n",
       " 'Command line interface',\n",
       " 'Clojure',\n",
       " 'Code quality',\n",
       " 'Code review',\n",
       " 'Compiler',\n",
       " 'Continuous integration',\n",
       " 'COVID-19',\n",
       " 'C++']"
      ]
     },
     "execution_count": 21,
     "metadata": {},
     "output_type": "execute_result"
    }
   ],
   "source": [
    "topic_titles"
   ]
  },
  {
   "cell_type": "code",
   "execution_count": 22,
   "id": "05e6b5b4",
   "metadata": {},
   "outputs": [],
   "source": [
    "topic_descs=[]\n",
    "for tag in topic_desc_tags:\n",
    "    topic_descs.append(tag.text.strip())"
   ]
  },
  {
   "cell_type": "code",
   "execution_count": 23,
   "id": "bb69c8b7",
   "metadata": {},
   "outputs": [
    {
     "data": {
      "text/plain": [
       "['3D modeling is the process of virtually developing the surface and structure of a 3D object.',\n",
       " 'Ajax is a technique for creating interactive web applications.',\n",
       " 'Algorithms are self-contained sequences that carry out a variety of tasks.',\n",
       " 'Amp is a non-blocking concurrency framework for PHP.',\n",
       " 'Android is an operating system built by Google designed for mobile devices.',\n",
       " 'Angular is an open source web application platform.',\n",
       " 'Ansible is a simple and powerful automation engine.',\n",
       " 'An API (Application Programming Interface) is a collection of protocols and subroutines for building software.',\n",
       " 'Arduino is an open source hardware and software company and maker community.',\n",
       " 'ASP.NET is a web framework for building modern web apps and services.',\n",
       " 'Atom is a open source text editor built with web technologies.',\n",
       " 'An awesome list is a list of awesome things curated by the community.',\n",
       " 'Amazon Web Services provides on-demand cloud computing platforms on a subscription basis.',\n",
       " 'Azure is a cloud computing service created by Microsoft.',\n",
       " 'Babel is a compiler for writing next generation JavaScript, today.',\n",
       " 'Bash is a shell and command language interpreter for the GNU operating system.',\n",
       " 'Bitcoin is a cryptocurrency developed by Satoshi Nakamoto.',\n",
       " 'Bootstrap is an HTML, CSS, and JavaScript framework.',\n",
       " 'A bot is an application that runs automated tasks over the Internet.',\n",
       " 'C is a general purpose programming language that first appeared in 1972.',\n",
       " 'Chrome is a web browser from the tech company Google.',\n",
       " 'Google Chrome Extensions are add-ons that allow users to customize their Chrome web browser.',\n",
       " 'A CLI, or command-line interface, is a console that helps users issue commands to a program.',\n",
       " 'Clojure is a dynamic, general-purpose programming language.',\n",
       " 'Automate your code review with style, quality, security, and test‑coverage checks when you need them.',\n",
       " 'Ensure your code meets quality standards and ship with confidence.',\n",
       " 'Compilers are software that translate higher-level programming languages to lower-level languages (e.g. machine code).',\n",
       " 'Automatically build and test your code as you push it upstream, preventing bugs from being deployed to production.',\n",
       " 'The coronavirus disease 2019 (COVID-19) is an infectious disease caused by SARS-CoV-2.',\n",
       " 'C++ is a general purpose and object-oriented programming language.']"
      ]
     },
     "execution_count": 23,
     "metadata": {},
     "output_type": "execute_result"
    }
   ],
   "source": [
    "topic_descs"
   ]
  },
  {
   "cell_type": "code",
   "execution_count": 24,
   "id": "d9c7702b",
   "metadata": {},
   "outputs": [],
   "source": [
    "topic_urls=[]\n",
    "base_url='https://github.com/'\n",
    "for tag in topic_url_tags:\n",
    "    topic_urls.append(base_url + tag['href'])"
   ]
  },
  {
   "cell_type": "code",
   "execution_count": 25,
   "id": "a93841f3",
   "metadata": {},
   "outputs": [
    {
     "data": {
      "text/plain": [
       "['https://github.com//topics/3d',\n",
       " 'https://github.com//topics/ajax',\n",
       " 'https://github.com//topics/algorithm',\n",
       " 'https://github.com//topics/amphp',\n",
       " 'https://github.com//topics/android',\n",
       " 'https://github.com//topics/angular',\n",
       " 'https://github.com//topics/ansible',\n",
       " 'https://github.com//topics/api',\n",
       " 'https://github.com//topics/arduino',\n",
       " 'https://github.com//topics/aspnet',\n",
       " 'https://github.com//topics/atom',\n",
       " 'https://github.com//topics/awesome',\n",
       " 'https://github.com//topics/aws',\n",
       " 'https://github.com//topics/azure',\n",
       " 'https://github.com//topics/babel',\n",
       " 'https://github.com//topics/bash',\n",
       " 'https://github.com//topics/bitcoin',\n",
       " 'https://github.com//topics/bootstrap',\n",
       " 'https://github.com//topics/bot',\n",
       " 'https://github.com//topics/c',\n",
       " 'https://github.com//topics/chrome',\n",
       " 'https://github.com//topics/chrome-extension',\n",
       " 'https://github.com//topics/cli',\n",
       " 'https://github.com//topics/clojure',\n",
       " 'https://github.com//topics/code-quality',\n",
       " 'https://github.com//topics/code-review',\n",
       " 'https://github.com//topics/compiler',\n",
       " 'https://github.com//topics/continuous-integration',\n",
       " 'https://github.com//topics/covid-19',\n",
       " 'https://github.com//topics/cpp']"
      ]
     },
     "execution_count": 25,
     "metadata": {},
     "output_type": "execute_result"
    }
   ],
   "source": [
    "topic_urls"
   ]
  },
  {
   "cell_type": "markdown",
   "id": "85313cde",
   "metadata": {},
   "source": [
    "# ## Create CSV file(s) with the extracted information\n",
    "Create functions for the end-to-end process of downloading, parsing, and saving CSVs.\n",
    "Execute the function with different inputs to create a dataset of CSV files.\n",
    "Verify the information in the CSV files by reading them back using Pandas."
   ]
  },
  {
   "cell_type": "code",
   "execution_count": null,
   "id": "9c31300e",
   "metadata": {},
   "outputs": [],
   "source": []
  },
  {
   "cell_type": "code",
   "execution_count": 26,
   "id": "fe481e9e",
   "metadata": {},
   "outputs": [],
   "source": [
    "#to create csv files use pandas\n",
    "!pip install pandas --upgrade --quiet"
   ]
  },
  {
   "cell_type": "code",
   "execution_count": 27,
   "id": "170628e2",
   "metadata": {},
   "outputs": [],
   "source": [
    "import pandas as pd"
   ]
  },
  {
   "cell_type": "code",
   "execution_count": 28,
   "id": "5e7c6552",
   "metadata": {},
   "outputs": [],
   "source": [
    "topic_dict={'title':topic_titles,\n",
    "            'description':topic_descs,\n",
    "             'urls':topic_urls}"
   ]
  },
  {
   "cell_type": "code",
   "execution_count": 29,
   "id": "33cf3be0",
   "metadata": {},
   "outputs": [],
   "source": [
    "topic_df=pd.DataFrame(topic_dict)"
   ]
  },
  {
   "cell_type": "code",
   "execution_count": 30,
   "id": "8b141bce",
   "metadata": {},
   "outputs": [
    {
     "data": {
      "text/html": [
       "<div>\n",
       "<style scoped>\n",
       "    .dataframe tbody tr th:only-of-type {\n",
       "        vertical-align: middle;\n",
       "    }\n",
       "\n",
       "    .dataframe tbody tr th {\n",
       "        vertical-align: top;\n",
       "    }\n",
       "\n",
       "    .dataframe thead th {\n",
       "        text-align: right;\n",
       "    }\n",
       "</style>\n",
       "<table border=\"1\" class=\"dataframe\">\n",
       "  <thead>\n",
       "    <tr style=\"text-align: right;\">\n",
       "      <th></th>\n",
       "      <th>title</th>\n",
       "      <th>description</th>\n",
       "      <th>urls</th>\n",
       "    </tr>\n",
       "  </thead>\n",
       "  <tbody>\n",
       "    <tr>\n",
       "      <th>0</th>\n",
       "      <td>3D</td>\n",
       "      <td>3D modeling is the process of virtually develo...</td>\n",
       "      <td>https://github.com//topics/3d</td>\n",
       "    </tr>\n",
       "    <tr>\n",
       "      <th>1</th>\n",
       "      <td>Ajax</td>\n",
       "      <td>Ajax is a technique for creating interactive w...</td>\n",
       "      <td>https://github.com//topics/ajax</td>\n",
       "    </tr>\n",
       "    <tr>\n",
       "      <th>2</th>\n",
       "      <td>Algorithm</td>\n",
       "      <td>Algorithms are self-contained sequences that c...</td>\n",
       "      <td>https://github.com//topics/algorithm</td>\n",
       "    </tr>\n",
       "    <tr>\n",
       "      <th>3</th>\n",
       "      <td>Amp</td>\n",
       "      <td>Amp is a non-blocking concurrency framework fo...</td>\n",
       "      <td>https://github.com//topics/amphp</td>\n",
       "    </tr>\n",
       "    <tr>\n",
       "      <th>4</th>\n",
       "      <td>Android</td>\n",
       "      <td>Android is an operating system built by Google...</td>\n",
       "      <td>https://github.com//topics/android</td>\n",
       "    </tr>\n",
       "    <tr>\n",
       "      <th>5</th>\n",
       "      <td>Angular</td>\n",
       "      <td>Angular is an open source web application plat...</td>\n",
       "      <td>https://github.com//topics/angular</td>\n",
       "    </tr>\n",
       "    <tr>\n",
       "      <th>6</th>\n",
       "      <td>Ansible</td>\n",
       "      <td>Ansible is a simple and powerful automation en...</td>\n",
       "      <td>https://github.com//topics/ansible</td>\n",
       "    </tr>\n",
       "    <tr>\n",
       "      <th>7</th>\n",
       "      <td>API</td>\n",
       "      <td>An API (Application Programming Interface) is ...</td>\n",
       "      <td>https://github.com//topics/api</td>\n",
       "    </tr>\n",
       "    <tr>\n",
       "      <th>8</th>\n",
       "      <td>Arduino</td>\n",
       "      <td>Arduino is an open source hardware and softwar...</td>\n",
       "      <td>https://github.com//topics/arduino</td>\n",
       "    </tr>\n",
       "    <tr>\n",
       "      <th>9</th>\n",
       "      <td>ASP.NET</td>\n",
       "      <td>ASP.NET is a web framework for building modern...</td>\n",
       "      <td>https://github.com//topics/aspnet</td>\n",
       "    </tr>\n",
       "    <tr>\n",
       "      <th>10</th>\n",
       "      <td>Atom</td>\n",
       "      <td>Atom is a open source text editor built with w...</td>\n",
       "      <td>https://github.com//topics/atom</td>\n",
       "    </tr>\n",
       "    <tr>\n",
       "      <th>11</th>\n",
       "      <td>Awesome Lists</td>\n",
       "      <td>An awesome list is a list of awesome things cu...</td>\n",
       "      <td>https://github.com//topics/awesome</td>\n",
       "    </tr>\n",
       "    <tr>\n",
       "      <th>12</th>\n",
       "      <td>Amazon Web Services</td>\n",
       "      <td>Amazon Web Services provides on-demand cloud c...</td>\n",
       "      <td>https://github.com//topics/aws</td>\n",
       "    </tr>\n",
       "    <tr>\n",
       "      <th>13</th>\n",
       "      <td>Azure</td>\n",
       "      <td>Azure is a cloud computing service created by ...</td>\n",
       "      <td>https://github.com//topics/azure</td>\n",
       "    </tr>\n",
       "    <tr>\n",
       "      <th>14</th>\n",
       "      <td>Babel</td>\n",
       "      <td>Babel is a compiler for writing next generatio...</td>\n",
       "      <td>https://github.com//topics/babel</td>\n",
       "    </tr>\n",
       "    <tr>\n",
       "      <th>15</th>\n",
       "      <td>Bash</td>\n",
       "      <td>Bash is a shell and command language interpret...</td>\n",
       "      <td>https://github.com//topics/bash</td>\n",
       "    </tr>\n",
       "    <tr>\n",
       "      <th>16</th>\n",
       "      <td>Bitcoin</td>\n",
       "      <td>Bitcoin is a cryptocurrency developed by Satos...</td>\n",
       "      <td>https://github.com//topics/bitcoin</td>\n",
       "    </tr>\n",
       "    <tr>\n",
       "      <th>17</th>\n",
       "      <td>Bootstrap</td>\n",
       "      <td>Bootstrap is an HTML, CSS, and JavaScript fram...</td>\n",
       "      <td>https://github.com//topics/bootstrap</td>\n",
       "    </tr>\n",
       "    <tr>\n",
       "      <th>18</th>\n",
       "      <td>Bot</td>\n",
       "      <td>A bot is an application that runs automated ta...</td>\n",
       "      <td>https://github.com//topics/bot</td>\n",
       "    </tr>\n",
       "    <tr>\n",
       "      <th>19</th>\n",
       "      <td>C</td>\n",
       "      <td>C is a general purpose programming language th...</td>\n",
       "      <td>https://github.com//topics/c</td>\n",
       "    </tr>\n",
       "    <tr>\n",
       "      <th>20</th>\n",
       "      <td>Chrome</td>\n",
       "      <td>Chrome is a web browser from the tech company ...</td>\n",
       "      <td>https://github.com//topics/chrome</td>\n",
       "    </tr>\n",
       "    <tr>\n",
       "      <th>21</th>\n",
       "      <td>Chrome extension</td>\n",
       "      <td>Google Chrome Extensions are add-ons that allo...</td>\n",
       "      <td>https://github.com//topics/chrome-extension</td>\n",
       "    </tr>\n",
       "    <tr>\n",
       "      <th>22</th>\n",
       "      <td>Command line interface</td>\n",
       "      <td>A CLI, or command-line interface, is a console...</td>\n",
       "      <td>https://github.com//topics/cli</td>\n",
       "    </tr>\n",
       "    <tr>\n",
       "      <th>23</th>\n",
       "      <td>Clojure</td>\n",
       "      <td>Clojure is a dynamic, general-purpose programm...</td>\n",
       "      <td>https://github.com//topics/clojure</td>\n",
       "    </tr>\n",
       "    <tr>\n",
       "      <th>24</th>\n",
       "      <td>Code quality</td>\n",
       "      <td>Automate your code review with style, quality,...</td>\n",
       "      <td>https://github.com//topics/code-quality</td>\n",
       "    </tr>\n",
       "    <tr>\n",
       "      <th>25</th>\n",
       "      <td>Code review</td>\n",
       "      <td>Ensure your code meets quality standards and s...</td>\n",
       "      <td>https://github.com//topics/code-review</td>\n",
       "    </tr>\n",
       "    <tr>\n",
       "      <th>26</th>\n",
       "      <td>Compiler</td>\n",
       "      <td>Compilers are software that translate higher-l...</td>\n",
       "      <td>https://github.com//topics/compiler</td>\n",
       "    </tr>\n",
       "    <tr>\n",
       "      <th>27</th>\n",
       "      <td>Continuous integration</td>\n",
       "      <td>Automatically build and test your code as you ...</td>\n",
       "      <td>https://github.com//topics/continuous-integration</td>\n",
       "    </tr>\n",
       "    <tr>\n",
       "      <th>28</th>\n",
       "      <td>COVID-19</td>\n",
       "      <td>The coronavirus disease 2019 (COVID-19) is an ...</td>\n",
       "      <td>https://github.com//topics/covid-19</td>\n",
       "    </tr>\n",
       "    <tr>\n",
       "      <th>29</th>\n",
       "      <td>C++</td>\n",
       "      <td>C++ is a general purpose and object-oriented p...</td>\n",
       "      <td>https://github.com//topics/cpp</td>\n",
       "    </tr>\n",
       "  </tbody>\n",
       "</table>\n",
       "</div>"
      ],
      "text/plain": [
       "                     title                                        description  \\\n",
       "0                       3D  3D modeling is the process of virtually develo...   \n",
       "1                     Ajax  Ajax is a technique for creating interactive w...   \n",
       "2                Algorithm  Algorithms are self-contained sequences that c...   \n",
       "3                      Amp  Amp is a non-blocking concurrency framework fo...   \n",
       "4                  Android  Android is an operating system built by Google...   \n",
       "5                  Angular  Angular is an open source web application plat...   \n",
       "6                  Ansible  Ansible is a simple and powerful automation en...   \n",
       "7                      API  An API (Application Programming Interface) is ...   \n",
       "8                  Arduino  Arduino is an open source hardware and softwar...   \n",
       "9                  ASP.NET  ASP.NET is a web framework for building modern...   \n",
       "10                    Atom  Atom is a open source text editor built with w...   \n",
       "11           Awesome Lists  An awesome list is a list of awesome things cu...   \n",
       "12     Amazon Web Services  Amazon Web Services provides on-demand cloud c...   \n",
       "13                   Azure  Azure is a cloud computing service created by ...   \n",
       "14                   Babel  Babel is a compiler for writing next generatio...   \n",
       "15                    Bash  Bash is a shell and command language interpret...   \n",
       "16                 Bitcoin  Bitcoin is a cryptocurrency developed by Satos...   \n",
       "17               Bootstrap  Bootstrap is an HTML, CSS, and JavaScript fram...   \n",
       "18                     Bot  A bot is an application that runs automated ta...   \n",
       "19                       C  C is a general purpose programming language th...   \n",
       "20                  Chrome  Chrome is a web browser from the tech company ...   \n",
       "21        Chrome extension  Google Chrome Extensions are add-ons that allo...   \n",
       "22  Command line interface  A CLI, or command-line interface, is a console...   \n",
       "23                 Clojure  Clojure is a dynamic, general-purpose programm...   \n",
       "24            Code quality  Automate your code review with style, quality,...   \n",
       "25             Code review  Ensure your code meets quality standards and s...   \n",
       "26                Compiler  Compilers are software that translate higher-l...   \n",
       "27  Continuous integration  Automatically build and test your code as you ...   \n",
       "28                COVID-19  The coronavirus disease 2019 (COVID-19) is an ...   \n",
       "29                     C++  C++ is a general purpose and object-oriented p...   \n",
       "\n",
       "                                                 urls  \n",
       "0                       https://github.com//topics/3d  \n",
       "1                     https://github.com//topics/ajax  \n",
       "2                https://github.com//topics/algorithm  \n",
       "3                    https://github.com//topics/amphp  \n",
       "4                  https://github.com//topics/android  \n",
       "5                  https://github.com//topics/angular  \n",
       "6                  https://github.com//topics/ansible  \n",
       "7                      https://github.com//topics/api  \n",
       "8                  https://github.com//topics/arduino  \n",
       "9                   https://github.com//topics/aspnet  \n",
       "10                    https://github.com//topics/atom  \n",
       "11                 https://github.com//topics/awesome  \n",
       "12                     https://github.com//topics/aws  \n",
       "13                   https://github.com//topics/azure  \n",
       "14                   https://github.com//topics/babel  \n",
       "15                    https://github.com//topics/bash  \n",
       "16                 https://github.com//topics/bitcoin  \n",
       "17               https://github.com//topics/bootstrap  \n",
       "18                     https://github.com//topics/bot  \n",
       "19                       https://github.com//topics/c  \n",
       "20                  https://github.com//topics/chrome  \n",
       "21        https://github.com//topics/chrome-extension  \n",
       "22                     https://github.com//topics/cli  \n",
       "23                 https://github.com//topics/clojure  \n",
       "24            https://github.com//topics/code-quality  \n",
       "25             https://github.com//topics/code-review  \n",
       "26                https://github.com//topics/compiler  \n",
       "27  https://github.com//topics/continuous-integration  \n",
       "28                https://github.com//topics/covid-19  \n",
       "29                     https://github.com//topics/cpp  "
      ]
     },
     "execution_count": 30,
     "metadata": {},
     "output_type": "execute_result"
    }
   ],
   "source": [
    "topic_df"
   ]
  },
  {
   "cell_type": "code",
   "execution_count": 31,
   "id": "5a792078",
   "metadata": {},
   "outputs": [],
   "source": [
    "#saving data to csv files\n",
    "topic_df.to_csv('topics.csv',index=None)"
   ]
  },
  {
   "cell_type": "markdown",
   "id": "e6491116",
   "metadata": {},
   "source": [
    "# Getting information out of topic page"
   ]
  },
  {
   "cell_type": "code",
   "execution_count": 32,
   "id": "62028aa0",
   "metadata": {},
   "outputs": [],
   "source": [
    "topic_page_url=topic_urls[0]"
   ]
  },
  {
   "cell_type": "code",
   "execution_count": 33,
   "id": "b2dd4950",
   "metadata": {},
   "outputs": [
    {
     "data": {
      "text/plain": [
       "'https://github.com//topics/3d'"
      ]
     },
     "execution_count": 33,
     "metadata": {},
     "output_type": "execute_result"
    }
   ],
   "source": [
    "topic_page_url"
   ]
  },
  {
   "cell_type": "code",
   "execution_count": 34,
   "id": "c7317adb",
   "metadata": {},
   "outputs": [],
   "source": [
    "response=requests.get(topic_page_url)"
   ]
  },
  {
   "cell_type": "code",
   "execution_count": 35,
   "id": "7c84cbee",
   "metadata": {},
   "outputs": [
    {
     "data": {
      "text/plain": [
       "200"
      ]
     },
     "execution_count": 35,
     "metadata": {},
     "output_type": "execute_result"
    }
   ],
   "source": [
    "response.status_code"
   ]
  },
  {
   "cell_type": "code",
   "execution_count": 36,
   "id": "a2d07fb1",
   "metadata": {},
   "outputs": [
    {
     "data": {
      "text/plain": [
       "637818"
      ]
     },
     "execution_count": 36,
     "metadata": {},
     "output_type": "execute_result"
    }
   ],
   "source": [
    "len(response.text)"
   ]
  },
  {
   "cell_type": "code",
   "execution_count": 37,
   "id": "07c7b328",
   "metadata": {},
   "outputs": [],
   "source": [
    "topic_doc = BeautifulSoup(response.text, 'html.parser')"
   ]
  },
  {
   "cell_type": "code",
   "execution_count": 38,
   "id": "9b632ad4",
   "metadata": {},
   "outputs": [],
   "source": [
    "repo_tags=topic_doc.find_all('h3',{'class':'f3 color-fg-muted text-normal lh-condensed'})"
   ]
  },
  {
   "cell_type": "code",
   "execution_count": 39,
   "id": "da88020b",
   "metadata": {},
   "outputs": [
    {
     "data": {
      "text/plain": [
       "30"
      ]
     },
     "execution_count": 39,
     "metadata": {},
     "output_type": "execute_result"
    }
   ],
   "source": [
    "len(repo_tags)"
   ]
  },
  {
   "cell_type": "code",
   "execution_count": 40,
   "id": "a67e4892",
   "metadata": {},
   "outputs": [],
   "source": [
    "a_tags=repo_tags[0].find_all('a')"
   ]
  },
  {
   "cell_type": "code",
   "execution_count": 41,
   "id": "5c3a878d",
   "metadata": {},
   "outputs": [
    {
     "data": {
      "text/plain": [
       "[<a data-ga-click=\"Explore, go to repository owner, location:explore feed\" data-hydro-click='{\"event_type\":\"explore.click\",\"payload\":{\"click_context\":\"REPOSITORY_CARD\",\"click_target\":\"OWNER\",\"click_visual_representation\":\"REPOSITORY_OWNER_HEADING\",\"actor_id\":null,\"record_id\":97088,\"originating_url\":\"https://github.com/topics/3d\",\"user_id\":null}}' data-hydro-click-hmac=\"4bdbc49d3c05ae7f70b531fbce709a384200b0768554e0172950286a8db30940\" data-view-component=\"true\" href=\"/mrdoob\">\n",
       "             mrdoob\n",
       " </a>,\n",
       " <a class=\"text-bold wb-break-word\" data-ga-click=\"Explore, go to repository, location:explore feed\" data-hydro-click='{\"event_type\":\"explore.click\",\"payload\":{\"click_context\":\"REPOSITORY_CARD\",\"click_target\":\"REPOSITORY\",\"click_visual_representation\":\"REPOSITORY_NAME_HEADING\",\"actor_id\":null,\"record_id\":576201,\"originating_url\":\"https://github.com/topics/3d\",\"user_id\":null}}' data-hydro-click-hmac=\"517d3d5cb9d89752156923904a4238816bc9b51ab7772f3e3644ce897d8dd4e5\" data-view-component=\"true\" href=\"/mrdoob/three.js\">\n",
       "             three.js\n",
       " </a>]"
      ]
     },
     "execution_count": 41,
     "metadata": {},
     "output_type": "execute_result"
    }
   ],
   "source": [
    "a_tags"
   ]
  },
  {
   "cell_type": "code",
   "execution_count": 42,
   "id": "a9dda345",
   "metadata": {},
   "outputs": [
    {
     "data": {
      "text/plain": [
       "'mrdoob'"
      ]
     },
     "execution_count": 42,
     "metadata": {},
     "output_type": "execute_result"
    }
   ],
   "source": [
    "#username\n",
    "a_tags[0].text.strip()"
   ]
  },
  {
   "cell_type": "code",
   "execution_count": 43,
   "id": "b694786a",
   "metadata": {},
   "outputs": [
    {
     "data": {
      "text/plain": [
       "'three.js'"
      ]
     },
     "execution_count": 43,
     "metadata": {},
     "output_type": "execute_result"
    }
   ],
   "source": [
    "#reponame\n",
    "a_tags[1].text.strip()"
   ]
  },
  {
   "cell_type": "code",
   "execution_count": 44,
   "id": "9233c5b5",
   "metadata": {},
   "outputs": [
    {
     "data": {
      "text/plain": [
       "'/mrdoob/three.js'"
      ]
     },
     "execution_count": 44,
     "metadata": {},
     "output_type": "execute_result"
    }
   ],
   "source": [
    "a_tags[1]['href']"
   ]
  },
  {
   "cell_type": "code",
   "execution_count": 45,
   "id": "5306fff7",
   "metadata": {},
   "outputs": [],
   "source": [
    "repo_url=base_url + a_tags[1]['href']"
   ]
  },
  {
   "cell_type": "code",
   "execution_count": 46,
   "id": "9c6ec86e",
   "metadata": {},
   "outputs": [
    {
     "data": {
      "text/plain": [
       "'https://github.com//mrdoob/three.js'"
      ]
     },
     "execution_count": 46,
     "metadata": {},
     "output_type": "execute_result"
    }
   ],
   "source": [
    "repo_url"
   ]
  },
  {
   "cell_type": "code",
   "execution_count": 47,
   "id": "4363c687",
   "metadata": {},
   "outputs": [],
   "source": [
    "star_tags=topic_doc.find_all('a',{'class':'social-count float-none'})"
   ]
  },
  {
   "cell_type": "code",
   "execution_count": 48,
   "id": "b939d659",
   "metadata": {},
   "outputs": [
    {
     "data": {
      "text/plain": [
       "30"
      ]
     },
     "execution_count": 48,
     "metadata": {},
     "output_type": "execute_result"
    }
   ],
   "source": [
    "len(star_tags)"
   ]
  },
  {
   "cell_type": "code",
   "execution_count": 49,
   "id": "665aeff3",
   "metadata": {},
   "outputs": [
    {
     "data": {
      "text/plain": [
       "'75.4k'"
      ]
     },
     "execution_count": 49,
     "metadata": {},
     "output_type": "execute_result"
    }
   ],
   "source": [
    "star_tags[0].text.strip()"
   ]
  },
  {
   "cell_type": "code",
   "execution_count": 50,
   "id": "f0868574",
   "metadata": {},
   "outputs": [],
   "source": [
    "def parse_star_count(stars_str):\n",
    "    stars_str=stars_str.strip()\n",
    "    if stars_str[-1]=='k':\n",
    "        return int(float(stars_str[:-1]) * 1000)\n",
    "    return int(stars_str)\n",
    "    "
   ]
  },
  {
   "cell_type": "code",
   "execution_count": 51,
   "id": "b84eda29",
   "metadata": {},
   "outputs": [
    {
     "data": {
      "text/plain": [
       "75400"
      ]
     },
     "execution_count": 51,
     "metadata": {},
     "output_type": "execute_result"
    }
   ],
   "source": [
    "parse_star_count(star_tags[0].text.strip())"
   ]
  },
  {
   "cell_type": "code",
   "execution_count": 52,
   "id": "dcc70746",
   "metadata": {},
   "outputs": [],
   "source": [
    "def get_repo_info(h3_tag,star_tag):\n",
    "    a_tags=h3_tag.find_all('a')\n",
    "    username=a_tags[0].text.strip()\n",
    "    repo_name=a_tags[1].text.strip()\n",
    "    repo_url=base_url + a_tags[1]['href']\n",
    "    stars=parse_star_count(star_tag.text.strip())\n",
    "    return username,repo_name,stars,repo_url"
   ]
  },
  {
   "cell_type": "code",
   "execution_count": 53,
   "id": "18aba0cf",
   "metadata": {},
   "outputs": [
    {
     "data": {
      "text/plain": [
       "('mrdoob', 'three.js', 75400, 'https://github.com//mrdoob/three.js')"
      ]
     },
     "execution_count": 53,
     "metadata": {},
     "output_type": "execute_result"
    }
   ],
   "source": [
    "get_repo_info(repo_tags[0],star_tags[0])"
   ]
  },
  {
   "cell_type": "code",
   "execution_count": 54,
   "id": "fee623f9",
   "metadata": {},
   "outputs": [],
   "source": [
    "topic_repos_dict={\n",
    "    'username':[],\n",
    "    'repo_name':[],\n",
    "    'stars':[],\n",
    "    'repo_url':[]\n",
    "}\n",
    "for i in range(len(repo_tags)):\n",
    "    repo_info=get_repo_info(repo_tags[i],star_tags[i])\n",
    "    topic_repos_dict['username'].append(repo_info[0])\n",
    "    topic_repos_dict['repo_name'].append(repo_info[1])\n",
    "    topic_repos_dict['stars'].append(repo_info[2])\n",
    "    topic_repos_dict['repo_url'].append(repo_info[3])\n",
    "    "
   ]
  },
  {
   "cell_type": "code",
   "execution_count": 55,
   "id": "835edef8",
   "metadata": {},
   "outputs": [
    {
     "data": {
      "text/plain": [
       "{'username': ['mrdoob',\n",
       "  'libgdx',\n",
       "  'pmndrs',\n",
       "  'BabylonJS',\n",
       "  'aframevr',\n",
       "  'ssloy',\n",
       "  'lettier',\n",
       "  'FreeCAD',\n",
       "  'metafizzy',\n",
       "  'CesiumGS',\n",
       "  'timzhang642',\n",
       "  'a1studmuffin',\n",
       "  'isl-org',\n",
       "  'spritejs',\n",
       "  'domlysz',\n",
       "  'tensorspace-team',\n",
       "  'jagenjo',\n",
       "  'YadiraF',\n",
       "  'AaronJackson',\n",
       "  'openscad',\n",
       "  'ssloy',\n",
       "  'mosra',\n",
       "  'blender',\n",
       "  'google',\n",
       "  'gfxfundamentals',\n",
       "  'cleardusk',\n",
       "  'jasonlong',\n",
       "  'rg3dengine',\n",
       "  'cnr-isti-vclab',\n",
       "  'antvis'],\n",
       " 'repo_name': ['three.js',\n",
       "  'libgdx',\n",
       "  'react-three-fiber',\n",
       "  'Babylon.js',\n",
       "  'aframe',\n",
       "  'tinyrenderer',\n",
       "  '3d-game-shaders-for-beginners',\n",
       "  'FreeCAD',\n",
       "  'zdog',\n",
       "  'cesium',\n",
       "  '3D-Machine-Learning',\n",
       "  'SpaceshipGenerator',\n",
       "  'Open3D',\n",
       "  'spritejs',\n",
       "  'BlenderGIS',\n",
       "  'tensorspace',\n",
       "  'webglstudio.js',\n",
       "  'PRNet',\n",
       "  'vrn',\n",
       "  'openscad',\n",
       "  'tinyraytracer',\n",
       "  'magnum',\n",
       "  'blender',\n",
       "  'model-viewer',\n",
       "  'webgl-fundamentals',\n",
       "  '3DDFA',\n",
       "  'isometric-contributions',\n",
       "  'rg3d',\n",
       "  'meshlab',\n",
       "  'L7'],\n",
       " 'stars': [75400,\n",
       "  19200,\n",
       "  15500,\n",
       "  15200,\n",
       "  13200,\n",
       "  11500,\n",
       "  11400,\n",
       "  10100,\n",
       "  8800,\n",
       "  7600,\n",
       "  7200,\n",
       "  6900,\n",
       "  5700,\n",
       "  4700,\n",
       "  4500,\n",
       "  4500,\n",
       "  4500,\n",
       "  4400,\n",
       "  4400,\n",
       "  4400,\n",
       "  3900,\n",
       "  3700,\n",
       "  3700,\n",
       "  3600,\n",
       "  3200,\n",
       "  3100,\n",
       "  3100,\n",
       "  2900,\n",
       "  2500,\n",
       "  2500],\n",
       " 'repo_url': ['https://github.com//mrdoob/three.js',\n",
       "  'https://github.com//libgdx/libgdx',\n",
       "  'https://github.com//pmndrs/react-three-fiber',\n",
       "  'https://github.com//BabylonJS/Babylon.js',\n",
       "  'https://github.com//aframevr/aframe',\n",
       "  'https://github.com//ssloy/tinyrenderer',\n",
       "  'https://github.com//lettier/3d-game-shaders-for-beginners',\n",
       "  'https://github.com//FreeCAD/FreeCAD',\n",
       "  'https://github.com//metafizzy/zdog',\n",
       "  'https://github.com//CesiumGS/cesium',\n",
       "  'https://github.com//timzhang642/3D-Machine-Learning',\n",
       "  'https://github.com//a1studmuffin/SpaceshipGenerator',\n",
       "  'https://github.com//isl-org/Open3D',\n",
       "  'https://github.com//spritejs/spritejs',\n",
       "  'https://github.com//domlysz/BlenderGIS',\n",
       "  'https://github.com//tensorspace-team/tensorspace',\n",
       "  'https://github.com//jagenjo/webglstudio.js',\n",
       "  'https://github.com//YadiraF/PRNet',\n",
       "  'https://github.com//AaronJackson/vrn',\n",
       "  'https://github.com//openscad/openscad',\n",
       "  'https://github.com//ssloy/tinyraytracer',\n",
       "  'https://github.com//mosra/magnum',\n",
       "  'https://github.com//blender/blender',\n",
       "  'https://github.com//google/model-viewer',\n",
       "  'https://github.com//gfxfundamentals/webgl-fundamentals',\n",
       "  'https://github.com//cleardusk/3DDFA',\n",
       "  'https://github.com//jasonlong/isometric-contributions',\n",
       "  'https://github.com//rg3dengine/rg3d',\n",
       "  'https://github.com//cnr-isti-vclab/meshlab',\n",
       "  'https://github.com//antvis/L7']}"
      ]
     },
     "execution_count": 55,
     "metadata": {},
     "output_type": "execute_result"
    }
   ],
   "source": [
    "topic_repos_dict"
   ]
  },
  {
   "cell_type": "code",
   "execution_count": 56,
   "id": "1d362b07",
   "metadata": {},
   "outputs": [],
   "source": [
    "topic_repos_df=pd.DataFrame(topic_repos_dict)"
   ]
  },
  {
   "cell_type": "code",
   "execution_count": 57,
   "id": "71200295",
   "metadata": {},
   "outputs": [
    {
     "data": {
      "text/html": [
       "<div>\n",
       "<style scoped>\n",
       "    .dataframe tbody tr th:only-of-type {\n",
       "        vertical-align: middle;\n",
       "    }\n",
       "\n",
       "    .dataframe tbody tr th {\n",
       "        vertical-align: top;\n",
       "    }\n",
       "\n",
       "    .dataframe thead th {\n",
       "        text-align: right;\n",
       "    }\n",
       "</style>\n",
       "<table border=\"1\" class=\"dataframe\">\n",
       "  <thead>\n",
       "    <tr style=\"text-align: right;\">\n",
       "      <th></th>\n",
       "      <th>username</th>\n",
       "      <th>repo_name</th>\n",
       "      <th>stars</th>\n",
       "      <th>repo_url</th>\n",
       "    </tr>\n",
       "  </thead>\n",
       "  <tbody>\n",
       "    <tr>\n",
       "      <th>0</th>\n",
       "      <td>mrdoob</td>\n",
       "      <td>three.js</td>\n",
       "      <td>75400</td>\n",
       "      <td>https://github.com//mrdoob/three.js</td>\n",
       "    </tr>\n",
       "    <tr>\n",
       "      <th>1</th>\n",
       "      <td>libgdx</td>\n",
       "      <td>libgdx</td>\n",
       "      <td>19200</td>\n",
       "      <td>https://github.com//libgdx/libgdx</td>\n",
       "    </tr>\n",
       "    <tr>\n",
       "      <th>2</th>\n",
       "      <td>pmndrs</td>\n",
       "      <td>react-three-fiber</td>\n",
       "      <td>15500</td>\n",
       "      <td>https://github.com//pmndrs/react-three-fiber</td>\n",
       "    </tr>\n",
       "    <tr>\n",
       "      <th>3</th>\n",
       "      <td>BabylonJS</td>\n",
       "      <td>Babylon.js</td>\n",
       "      <td>15200</td>\n",
       "      <td>https://github.com//BabylonJS/Babylon.js</td>\n",
       "    </tr>\n",
       "    <tr>\n",
       "      <th>4</th>\n",
       "      <td>aframevr</td>\n",
       "      <td>aframe</td>\n",
       "      <td>13200</td>\n",
       "      <td>https://github.com//aframevr/aframe</td>\n",
       "    </tr>\n",
       "    <tr>\n",
       "      <th>5</th>\n",
       "      <td>ssloy</td>\n",
       "      <td>tinyrenderer</td>\n",
       "      <td>11500</td>\n",
       "      <td>https://github.com//ssloy/tinyrenderer</td>\n",
       "    </tr>\n",
       "    <tr>\n",
       "      <th>6</th>\n",
       "      <td>lettier</td>\n",
       "      <td>3d-game-shaders-for-beginners</td>\n",
       "      <td>11400</td>\n",
       "      <td>https://github.com//lettier/3d-game-shaders-fo...</td>\n",
       "    </tr>\n",
       "    <tr>\n",
       "      <th>7</th>\n",
       "      <td>FreeCAD</td>\n",
       "      <td>FreeCAD</td>\n",
       "      <td>10100</td>\n",
       "      <td>https://github.com//FreeCAD/FreeCAD</td>\n",
       "    </tr>\n",
       "    <tr>\n",
       "      <th>8</th>\n",
       "      <td>metafizzy</td>\n",
       "      <td>zdog</td>\n",
       "      <td>8800</td>\n",
       "      <td>https://github.com//metafizzy/zdog</td>\n",
       "    </tr>\n",
       "    <tr>\n",
       "      <th>9</th>\n",
       "      <td>CesiumGS</td>\n",
       "      <td>cesium</td>\n",
       "      <td>7600</td>\n",
       "      <td>https://github.com//CesiumGS/cesium</td>\n",
       "    </tr>\n",
       "    <tr>\n",
       "      <th>10</th>\n",
       "      <td>timzhang642</td>\n",
       "      <td>3D-Machine-Learning</td>\n",
       "      <td>7200</td>\n",
       "      <td>https://github.com//timzhang642/3D-Machine-Lea...</td>\n",
       "    </tr>\n",
       "    <tr>\n",
       "      <th>11</th>\n",
       "      <td>a1studmuffin</td>\n",
       "      <td>SpaceshipGenerator</td>\n",
       "      <td>6900</td>\n",
       "      <td>https://github.com//a1studmuffin/SpaceshipGene...</td>\n",
       "    </tr>\n",
       "    <tr>\n",
       "      <th>12</th>\n",
       "      <td>isl-org</td>\n",
       "      <td>Open3D</td>\n",
       "      <td>5700</td>\n",
       "      <td>https://github.com//isl-org/Open3D</td>\n",
       "    </tr>\n",
       "    <tr>\n",
       "      <th>13</th>\n",
       "      <td>spritejs</td>\n",
       "      <td>spritejs</td>\n",
       "      <td>4700</td>\n",
       "      <td>https://github.com//spritejs/spritejs</td>\n",
       "    </tr>\n",
       "    <tr>\n",
       "      <th>14</th>\n",
       "      <td>domlysz</td>\n",
       "      <td>BlenderGIS</td>\n",
       "      <td>4500</td>\n",
       "      <td>https://github.com//domlysz/BlenderGIS</td>\n",
       "    </tr>\n",
       "    <tr>\n",
       "      <th>15</th>\n",
       "      <td>tensorspace-team</td>\n",
       "      <td>tensorspace</td>\n",
       "      <td>4500</td>\n",
       "      <td>https://github.com//tensorspace-team/tensorspace</td>\n",
       "    </tr>\n",
       "    <tr>\n",
       "      <th>16</th>\n",
       "      <td>jagenjo</td>\n",
       "      <td>webglstudio.js</td>\n",
       "      <td>4500</td>\n",
       "      <td>https://github.com//jagenjo/webglstudio.js</td>\n",
       "    </tr>\n",
       "    <tr>\n",
       "      <th>17</th>\n",
       "      <td>YadiraF</td>\n",
       "      <td>PRNet</td>\n",
       "      <td>4400</td>\n",
       "      <td>https://github.com//YadiraF/PRNet</td>\n",
       "    </tr>\n",
       "    <tr>\n",
       "      <th>18</th>\n",
       "      <td>AaronJackson</td>\n",
       "      <td>vrn</td>\n",
       "      <td>4400</td>\n",
       "      <td>https://github.com//AaronJackson/vrn</td>\n",
       "    </tr>\n",
       "    <tr>\n",
       "      <th>19</th>\n",
       "      <td>openscad</td>\n",
       "      <td>openscad</td>\n",
       "      <td>4400</td>\n",
       "      <td>https://github.com//openscad/openscad</td>\n",
       "    </tr>\n",
       "    <tr>\n",
       "      <th>20</th>\n",
       "      <td>ssloy</td>\n",
       "      <td>tinyraytracer</td>\n",
       "      <td>3900</td>\n",
       "      <td>https://github.com//ssloy/tinyraytracer</td>\n",
       "    </tr>\n",
       "    <tr>\n",
       "      <th>21</th>\n",
       "      <td>mosra</td>\n",
       "      <td>magnum</td>\n",
       "      <td>3700</td>\n",
       "      <td>https://github.com//mosra/magnum</td>\n",
       "    </tr>\n",
       "    <tr>\n",
       "      <th>22</th>\n",
       "      <td>blender</td>\n",
       "      <td>blender</td>\n",
       "      <td>3700</td>\n",
       "      <td>https://github.com//blender/blender</td>\n",
       "    </tr>\n",
       "    <tr>\n",
       "      <th>23</th>\n",
       "      <td>google</td>\n",
       "      <td>model-viewer</td>\n",
       "      <td>3600</td>\n",
       "      <td>https://github.com//google/model-viewer</td>\n",
       "    </tr>\n",
       "    <tr>\n",
       "      <th>24</th>\n",
       "      <td>gfxfundamentals</td>\n",
       "      <td>webgl-fundamentals</td>\n",
       "      <td>3200</td>\n",
       "      <td>https://github.com//gfxfundamentals/webgl-fund...</td>\n",
       "    </tr>\n",
       "    <tr>\n",
       "      <th>25</th>\n",
       "      <td>cleardusk</td>\n",
       "      <td>3DDFA</td>\n",
       "      <td>3100</td>\n",
       "      <td>https://github.com//cleardusk/3DDFA</td>\n",
       "    </tr>\n",
       "    <tr>\n",
       "      <th>26</th>\n",
       "      <td>jasonlong</td>\n",
       "      <td>isometric-contributions</td>\n",
       "      <td>3100</td>\n",
       "      <td>https://github.com//jasonlong/isometric-contri...</td>\n",
       "    </tr>\n",
       "    <tr>\n",
       "      <th>27</th>\n",
       "      <td>rg3dengine</td>\n",
       "      <td>rg3d</td>\n",
       "      <td>2900</td>\n",
       "      <td>https://github.com//rg3dengine/rg3d</td>\n",
       "    </tr>\n",
       "    <tr>\n",
       "      <th>28</th>\n",
       "      <td>cnr-isti-vclab</td>\n",
       "      <td>meshlab</td>\n",
       "      <td>2500</td>\n",
       "      <td>https://github.com//cnr-isti-vclab/meshlab</td>\n",
       "    </tr>\n",
       "    <tr>\n",
       "      <th>29</th>\n",
       "      <td>antvis</td>\n",
       "      <td>L7</td>\n",
       "      <td>2500</td>\n",
       "      <td>https://github.com//antvis/L7</td>\n",
       "    </tr>\n",
       "  </tbody>\n",
       "</table>\n",
       "</div>"
      ],
      "text/plain": [
       "            username                      repo_name  stars  \\\n",
       "0             mrdoob                       three.js  75400   \n",
       "1             libgdx                         libgdx  19200   \n",
       "2             pmndrs              react-three-fiber  15500   \n",
       "3          BabylonJS                     Babylon.js  15200   \n",
       "4           aframevr                         aframe  13200   \n",
       "5              ssloy                   tinyrenderer  11500   \n",
       "6            lettier  3d-game-shaders-for-beginners  11400   \n",
       "7            FreeCAD                        FreeCAD  10100   \n",
       "8          metafizzy                           zdog   8800   \n",
       "9           CesiumGS                         cesium   7600   \n",
       "10       timzhang642            3D-Machine-Learning   7200   \n",
       "11      a1studmuffin             SpaceshipGenerator   6900   \n",
       "12           isl-org                         Open3D   5700   \n",
       "13          spritejs                       spritejs   4700   \n",
       "14           domlysz                     BlenderGIS   4500   \n",
       "15  tensorspace-team                    tensorspace   4500   \n",
       "16           jagenjo                 webglstudio.js   4500   \n",
       "17           YadiraF                          PRNet   4400   \n",
       "18      AaronJackson                            vrn   4400   \n",
       "19          openscad                       openscad   4400   \n",
       "20             ssloy                  tinyraytracer   3900   \n",
       "21             mosra                         magnum   3700   \n",
       "22           blender                        blender   3700   \n",
       "23            google                   model-viewer   3600   \n",
       "24   gfxfundamentals             webgl-fundamentals   3200   \n",
       "25         cleardusk                          3DDFA   3100   \n",
       "26         jasonlong        isometric-contributions   3100   \n",
       "27        rg3dengine                           rg3d   2900   \n",
       "28    cnr-isti-vclab                        meshlab   2500   \n",
       "29            antvis                             L7   2500   \n",
       "\n",
       "                                             repo_url  \n",
       "0                 https://github.com//mrdoob/three.js  \n",
       "1                   https://github.com//libgdx/libgdx  \n",
       "2        https://github.com//pmndrs/react-three-fiber  \n",
       "3            https://github.com//BabylonJS/Babylon.js  \n",
       "4                 https://github.com//aframevr/aframe  \n",
       "5              https://github.com//ssloy/tinyrenderer  \n",
       "6   https://github.com//lettier/3d-game-shaders-fo...  \n",
       "7                 https://github.com//FreeCAD/FreeCAD  \n",
       "8                  https://github.com//metafizzy/zdog  \n",
       "9                 https://github.com//CesiumGS/cesium  \n",
       "10  https://github.com//timzhang642/3D-Machine-Lea...  \n",
       "11  https://github.com//a1studmuffin/SpaceshipGene...  \n",
       "12                 https://github.com//isl-org/Open3D  \n",
       "13              https://github.com//spritejs/spritejs  \n",
       "14             https://github.com//domlysz/BlenderGIS  \n",
       "15   https://github.com//tensorspace-team/tensorspace  \n",
       "16         https://github.com//jagenjo/webglstudio.js  \n",
       "17                  https://github.com//YadiraF/PRNet  \n",
       "18               https://github.com//AaronJackson/vrn  \n",
       "19              https://github.com//openscad/openscad  \n",
       "20            https://github.com//ssloy/tinyraytracer  \n",
       "21                   https://github.com//mosra/magnum  \n",
       "22                https://github.com//blender/blender  \n",
       "23            https://github.com//google/model-viewer  \n",
       "24  https://github.com//gfxfundamentals/webgl-fund...  \n",
       "25                https://github.com//cleardusk/3DDFA  \n",
       "26  https://github.com//jasonlong/isometric-contri...  \n",
       "27                https://github.com//rg3dengine/rg3d  \n",
       "28         https://github.com//cnr-isti-vclab/meshlab  \n",
       "29                      https://github.com//antvis/L7  "
      ]
     },
     "execution_count": 57,
     "metadata": {},
     "output_type": "execute_result"
    }
   ],
   "source": [
    "#this is only for '3d' topic\n",
    "topic_repos_df"
   ]
  },
  {
   "cell_type": "code",
   "execution_count": 98,
   "id": "239d86a3",
   "metadata": {},
   "outputs": [],
   "source": [
    "#let us do for all topics\n",
    "import os\n",
    "def get_topic_page(topic_url):\n",
    "    #Download the page\n",
    "    response=requests.get(topic_url)\n",
    "    #parse using beautifulsoup\n",
    "    topic_doc = BeautifulSoup(response.text, 'html.parser')\n",
    "    #chec successful response\n",
    "    if response.status_code !=200:\n",
    "        raise Exception('Failed to load page {}'.format(topic_url))\n",
    "    return topic_doc\n",
    "\n",
    "def get_repo_info(h3_tag,star_tag):\n",
    "    a_tags=h3_tag.find_all('a')\n",
    "    username=a_tags[0].text.strip()\n",
    "    repo_name=a_tags[1].text.strip()\n",
    "    repo_url=base_url + a_tags[1]['href']\n",
    "    stars=parse_star_count(star_tag.text.strip())\n",
    "    return username,repo_name,stars,repo_url\n",
    "\n",
    "def get_topic_repos(topic_doc):\n",
    "\n",
    "    #get h3 tags containing username,repo_name and repo_url\n",
    "    repo_tags=topic_doc.find_all('h3',{'class':'f3 color-fg-muted text-normal lh-condensed'})\n",
    "    #get star tags\n",
    "    star_tags=topic_doc.find_all('a',{'class':'social-count float-none'})\n",
    "    \n",
    "    #Get repo info\n",
    "    \n",
    "    topic_repos_dict={\n",
    "    'username':[],\n",
    "    'repo_name':[],\n",
    "    'stars':[],\n",
    "    'repo_url':[]\n",
    "            }\n",
    "    for i in range(len(repo_tags)):\n",
    "        repo_info=get_repo_info(repo_tags[i],star_tags[i])\n",
    "        topic_repos_dict['username'].append(repo_info[0])\n",
    "        topic_repos_dict['repo_name'].append(repo_info[1])\n",
    "        topic_repos_dict['stars'].append(repo_info[2])\n",
    "        topic_repos_dict['repo_url'].append(repo_info[3])\n",
    "    return pd.DataFrame(topic_repos_dict)\n",
    "\n",
    "def scrape_topic(topic_url,topic_name):\n",
    "    fname=topic_name + '.csv'\n",
    "    if os.path.exists(fname):\n",
    "        print('The file name {} is already exists.Skipping...'.format(fname))\n",
    "        return\n",
    "    topic_df=get_topic_repos(get_topic_page(topic_url))\n",
    "    topic_df.to_csv(topic_name + '.csv',index=None)"
   ]
  },
  {
   "cell_type": "code",
   "execution_count": 99,
   "id": "9c31234c",
   "metadata": {},
   "outputs": [],
   "source": [
    "url4=topic_urls[4]"
   ]
  },
  {
   "cell_type": "code",
   "execution_count": 100,
   "id": "f562e5e4",
   "metadata": {},
   "outputs": [],
   "source": [
    "topic4_doc=get_topic_pages(url4)"
   ]
  },
  {
   "cell_type": "code",
   "execution_count": 101,
   "id": "d5087bd2",
   "metadata": {},
   "outputs": [
    {
     "data": {
      "text/html": [
       "<div>\n",
       "<style scoped>\n",
       "    .dataframe tbody tr th:only-of-type {\n",
       "        vertical-align: middle;\n",
       "    }\n",
       "\n",
       "    .dataframe tbody tr th {\n",
       "        vertical-align: top;\n",
       "    }\n",
       "\n",
       "    .dataframe thead th {\n",
       "        text-align: right;\n",
       "    }\n",
       "</style>\n",
       "<table border=\"1\" class=\"dataframe\">\n",
       "  <thead>\n",
       "    <tr style=\"text-align: right;\">\n",
       "      <th></th>\n",
       "      <th>username</th>\n",
       "      <th>repo_name</th>\n",
       "      <th>stars</th>\n",
       "      <th>repo_url</th>\n",
       "    </tr>\n",
       "  </thead>\n",
       "  <tbody>\n",
       "    <tr>\n",
       "      <th>0</th>\n",
       "      <td>flutter</td>\n",
       "      <td>flutter</td>\n",
       "      <td>132000</td>\n",
       "      <td>https://github.com//flutter/flutter</td>\n",
       "    </tr>\n",
       "    <tr>\n",
       "      <th>1</th>\n",
       "      <td>justjavac</td>\n",
       "      <td>free-programming-books-zh_CN</td>\n",
       "      <td>84000</td>\n",
       "      <td>https://github.com//justjavac/free-programming...</td>\n",
       "    </tr>\n",
       "    <tr>\n",
       "      <th>2</th>\n",
       "      <td>Genymobile</td>\n",
       "      <td>scrcpy</td>\n",
       "      <td>56500</td>\n",
       "      <td>https://github.com//Genymobile/scrcpy</td>\n",
       "    </tr>\n",
       "    <tr>\n",
       "      <th>3</th>\n",
       "      <td>Hack-with-Github</td>\n",
       "      <td>Awesome-Hacking</td>\n",
       "      <td>47500</td>\n",
       "      <td>https://github.com//Hack-with-Github/Awesome-H...</td>\n",
       "    </tr>\n",
       "    <tr>\n",
       "      <th>4</th>\n",
       "      <td>google</td>\n",
       "      <td>material-design-icons</td>\n",
       "      <td>44200</td>\n",
       "      <td>https://github.com//google/material-design-icons</td>\n",
       "    </tr>\n",
       "    <tr>\n",
       "      <th>5</th>\n",
       "      <td>wasabeef</td>\n",
       "      <td>awesome-android-ui</td>\n",
       "      <td>41600</td>\n",
       "      <td>https://github.com//wasabeef/awesome-android-ui</td>\n",
       "    </tr>\n",
       "    <tr>\n",
       "      <th>6</th>\n",
       "      <td>square</td>\n",
       "      <td>okhttp</td>\n",
       "      <td>41100</td>\n",
       "      <td>https://github.com//square/okhttp</td>\n",
       "    </tr>\n",
       "    <tr>\n",
       "      <th>7</th>\n",
       "      <td>android</td>\n",
       "      <td>architecture-samples</td>\n",
       "      <td>39700</td>\n",
       "      <td>https://github.com//android/architecture-samples</td>\n",
       "    </tr>\n",
       "    <tr>\n",
       "      <th>8</th>\n",
       "      <td>square</td>\n",
       "      <td>retrofit</td>\n",
       "      <td>39000</td>\n",
       "      <td>https://github.com//square/retrofit</td>\n",
       "    </tr>\n",
       "    <tr>\n",
       "      <th>9</th>\n",
       "      <td>Solido</td>\n",
       "      <td>awesome-flutter</td>\n",
       "      <td>38000</td>\n",
       "      <td>https://github.com//Solido/awesome-flutter</td>\n",
       "    </tr>\n",
       "    <tr>\n",
       "      <th>10</th>\n",
       "      <td>PhilJay</td>\n",
       "      <td>MPAndroidChart</td>\n",
       "      <td>34200</td>\n",
       "      <td>https://github.com//PhilJay/MPAndroidChart</td>\n",
       "    </tr>\n",
       "    <tr>\n",
       "      <th>11</th>\n",
       "      <td>fastlane</td>\n",
       "      <td>fastlane</td>\n",
       "      <td>33200</td>\n",
       "      <td>https://github.com//fastlane/fastlane</td>\n",
       "    </tr>\n",
       "    <tr>\n",
       "      <th>12</th>\n",
       "      <td>shadowsocks</td>\n",
       "      <td>shadowsocks-android</td>\n",
       "      <td>32000</td>\n",
       "      <td>https://github.com//shadowsocks/shadowsocks-an...</td>\n",
       "    </tr>\n",
       "    <tr>\n",
       "      <th>13</th>\n",
       "      <td>airbnb</td>\n",
       "      <td>lottie-android</td>\n",
       "      <td>32000</td>\n",
       "      <td>https://github.com//airbnb/lottie-android</td>\n",
       "    </tr>\n",
       "    <tr>\n",
       "      <th>14</th>\n",
       "      <td>bumptech</td>\n",
       "      <td>glide</td>\n",
       "      <td>31900</td>\n",
       "      <td>https://github.com//bumptech/glide</td>\n",
       "    </tr>\n",
       "    <tr>\n",
       "      <th>15</th>\n",
       "      <td>Trinea</td>\n",
       "      <td>android-open-project</td>\n",
       "      <td>30800</td>\n",
       "      <td>https://github.com//Trinea/android-open-project</td>\n",
       "    </tr>\n",
       "    <tr>\n",
       "      <th>16</th>\n",
       "      <td>Blankj</td>\n",
       "      <td>AndroidUtilCode</td>\n",
       "      <td>30000</td>\n",
       "      <td>https://github.com//Blankj/AndroidUtilCode</td>\n",
       "    </tr>\n",
       "    <tr>\n",
       "      <th>17</th>\n",
       "      <td>xitu</td>\n",
       "      <td>gold-miner</td>\n",
       "      <td>29700</td>\n",
       "      <td>https://github.com//xitu/gold-miner</td>\n",
       "    </tr>\n",
       "    <tr>\n",
       "      <th>18</th>\n",
       "      <td>bilibili</td>\n",
       "      <td>ijkplayer</td>\n",
       "      <td>29600</td>\n",
       "      <td>https://github.com//bilibili/ijkplayer</td>\n",
       "    </tr>\n",
       "    <tr>\n",
       "      <th>19</th>\n",
       "      <td>zxing</td>\n",
       "      <td>zxing</td>\n",
       "      <td>28600</td>\n",
       "      <td>https://github.com//zxing/zxing</td>\n",
       "    </tr>\n",
       "    <tr>\n",
       "      <th>20</th>\n",
       "      <td>skylot</td>\n",
       "      <td>jadx</td>\n",
       "      <td>27600</td>\n",
       "      <td>https://github.com//skylot/jadx</td>\n",
       "    </tr>\n",
       "    <tr>\n",
       "      <th>21</th>\n",
       "      <td>codepath</td>\n",
       "      <td>android_guides</td>\n",
       "      <td>27600</td>\n",
       "      <td>https://github.com//codepath/android_guides</td>\n",
       "    </tr>\n",
       "    <tr>\n",
       "      <th>22</th>\n",
       "      <td>square</td>\n",
       "      <td>leakcanary</td>\n",
       "      <td>26900</td>\n",
       "      <td>https://github.com//square/leakcanary</td>\n",
       "    </tr>\n",
       "    <tr>\n",
       "      <th>23</th>\n",
       "      <td>laurent22</td>\n",
       "      <td>joplin</td>\n",
       "      <td>26100</td>\n",
       "      <td>https://github.com//laurent22/joplin</td>\n",
       "    </tr>\n",
       "    <tr>\n",
       "      <th>24</th>\n",
       "      <td>alibaba</td>\n",
       "      <td>fastjson</td>\n",
       "      <td>23900</td>\n",
       "      <td>https://github.com//alibaba/fastjson</td>\n",
       "    </tr>\n",
       "    <tr>\n",
       "      <th>25</th>\n",
       "      <td>scwang90</td>\n",
       "      <td>SmartRefreshLayout</td>\n",
       "      <td>23100</td>\n",
       "      <td>https://github.com//scwang90/SmartRefreshLayout</td>\n",
       "    </tr>\n",
       "    <tr>\n",
       "      <th>26</th>\n",
       "      <td>CymChad</td>\n",
       "      <td>BaseRecyclerViewAdapterHelper</td>\n",
       "      <td>22400</td>\n",
       "      <td>https://github.com//CymChad/BaseRecyclerViewAd...</td>\n",
       "    </tr>\n",
       "    <tr>\n",
       "      <th>27</th>\n",
       "      <td>react-native-elements</td>\n",
       "      <td>react-native-elements</td>\n",
       "      <td>21600</td>\n",
       "      <td>https://github.com//react-native-elements/reac...</td>\n",
       "    </tr>\n",
       "    <tr>\n",
       "      <th>28</th>\n",
       "      <td>google</td>\n",
       "      <td>iosched</td>\n",
       "      <td>20900</td>\n",
       "      <td>https://github.com//google/iosched</td>\n",
       "    </tr>\n",
       "    <tr>\n",
       "      <th>29</th>\n",
       "      <td>NativeScript</td>\n",
       "      <td>NativeScript</td>\n",
       "      <td>20600</td>\n",
       "      <td>https://github.com//NativeScript/NativeScript</td>\n",
       "    </tr>\n",
       "  </tbody>\n",
       "</table>\n",
       "</div>"
      ],
      "text/plain": [
       "                 username                      repo_name   stars  \\\n",
       "0                 flutter                        flutter  132000   \n",
       "1               justjavac   free-programming-books-zh_CN   84000   \n",
       "2              Genymobile                         scrcpy   56500   \n",
       "3        Hack-with-Github                Awesome-Hacking   47500   \n",
       "4                  google          material-design-icons   44200   \n",
       "5                wasabeef             awesome-android-ui   41600   \n",
       "6                  square                         okhttp   41100   \n",
       "7                 android           architecture-samples   39700   \n",
       "8                  square                       retrofit   39000   \n",
       "9                  Solido                awesome-flutter   38000   \n",
       "10                PhilJay                 MPAndroidChart   34200   \n",
       "11               fastlane                       fastlane   33200   \n",
       "12            shadowsocks            shadowsocks-android   32000   \n",
       "13                 airbnb                 lottie-android   32000   \n",
       "14               bumptech                          glide   31900   \n",
       "15                 Trinea           android-open-project   30800   \n",
       "16                 Blankj                AndroidUtilCode   30000   \n",
       "17                   xitu                     gold-miner   29700   \n",
       "18               bilibili                      ijkplayer   29600   \n",
       "19                  zxing                          zxing   28600   \n",
       "20                 skylot                           jadx   27600   \n",
       "21               codepath                 android_guides   27600   \n",
       "22                 square                     leakcanary   26900   \n",
       "23              laurent22                         joplin   26100   \n",
       "24                alibaba                       fastjson   23900   \n",
       "25               scwang90             SmartRefreshLayout   23100   \n",
       "26                CymChad  BaseRecyclerViewAdapterHelper   22400   \n",
       "27  react-native-elements          react-native-elements   21600   \n",
       "28                 google                        iosched   20900   \n",
       "29           NativeScript                   NativeScript   20600   \n",
       "\n",
       "                                             repo_url  \n",
       "0                 https://github.com//flutter/flutter  \n",
       "1   https://github.com//justjavac/free-programming...  \n",
       "2               https://github.com//Genymobile/scrcpy  \n",
       "3   https://github.com//Hack-with-Github/Awesome-H...  \n",
       "4    https://github.com//google/material-design-icons  \n",
       "5     https://github.com//wasabeef/awesome-android-ui  \n",
       "6                   https://github.com//square/okhttp  \n",
       "7    https://github.com//android/architecture-samples  \n",
       "8                 https://github.com//square/retrofit  \n",
       "9          https://github.com//Solido/awesome-flutter  \n",
       "10         https://github.com//PhilJay/MPAndroidChart  \n",
       "11              https://github.com//fastlane/fastlane  \n",
       "12  https://github.com//shadowsocks/shadowsocks-an...  \n",
       "13          https://github.com//airbnb/lottie-android  \n",
       "14                 https://github.com//bumptech/glide  \n",
       "15    https://github.com//Trinea/android-open-project  \n",
       "16         https://github.com//Blankj/AndroidUtilCode  \n",
       "17                https://github.com//xitu/gold-miner  \n",
       "18             https://github.com//bilibili/ijkplayer  \n",
       "19                    https://github.com//zxing/zxing  \n",
       "20                    https://github.com//skylot/jadx  \n",
       "21        https://github.com//codepath/android_guides  \n",
       "22              https://github.com//square/leakcanary  \n",
       "23               https://github.com//laurent22/joplin  \n",
       "24               https://github.com//alibaba/fastjson  \n",
       "25    https://github.com//scwang90/SmartRefreshLayout  \n",
       "26  https://github.com//CymChad/BaseRecyclerViewAd...  \n",
       "27  https://github.com//react-native-elements/reac...  \n",
       "28                 https://github.com//google/iosched  \n",
       "29      https://github.com//NativeScript/NativeScript  "
      ]
     },
     "execution_count": 101,
     "metadata": {},
     "output_type": "execute_result"
    }
   ],
   "source": [
    "get_topic_repos(topic4_doc)"
   ]
  },
  {
   "cell_type": "code",
   "execution_count": 102,
   "id": "c52b3578",
   "metadata": {},
   "outputs": [],
   "source": [
    "#put it all together\n",
    "def get_topic_titles(doc):\n",
    "    topic_title_tags=doc.find_all('p',{'class':'f3 lh-condensed mb-0 mt-1 Link--primary'})\n",
    "    topic_titles=[]\n",
    "    for tag in topic_title_tags:\n",
    "        topic_titles.append(tag.text)\n",
    "    return topic_titles  \n",
    "\n",
    "def get_topic_descs(doc):\n",
    "    topic_desc_tags=doc.find_all('p',{'class':'f5 color-fg-muted mb-0 mt-1'})\n",
    "    topic_descs=[]\n",
    "    for tag in topic_desc_tags:\n",
    "        topic_descs.append(tag.text.strip())\n",
    "    return topic_descs    \n",
    "def get_topic_urls(doc):\n",
    "    topic_url_tags=doc.find_all('a',{'class':'d-flex no-underline'})\n",
    "    topic_urls=[]\n",
    "    base_url='https://github.com/'\n",
    "    for tag in topic_url_tags:\n",
    "        topic_urls.append(base_url + tag['href'])\n",
    "    return topic_urls   \n",
    "def scrape_topics():\n",
    "    topics_url='https://github.com/topics'\n",
    "    response=requests.get(topic_url)\n",
    "     \n",
    "    if response.status_code !=200:\n",
    "        raise Exception('Failed to load page {}'.format(topic_url))\n",
    "    topics_dict={'title':get_topic_titles(doc),\n",
    "                  'description':get_topic_descs(doc),\n",
    "                   'urls':get_topic_urls(doc)}\n",
    "    return pd.DataFrame(topics_dict)"
   ]
  },
  {
   "cell_type": "code",
   "execution_count": 103,
   "id": "1de9ae63",
   "metadata": {},
   "outputs": [
    {
     "data": {
      "text/html": [
       "<div>\n",
       "<style scoped>\n",
       "    .dataframe tbody tr th:only-of-type {\n",
       "        vertical-align: middle;\n",
       "    }\n",
       "\n",
       "    .dataframe tbody tr th {\n",
       "        vertical-align: top;\n",
       "    }\n",
       "\n",
       "    .dataframe thead th {\n",
       "        text-align: right;\n",
       "    }\n",
       "</style>\n",
       "<table border=\"1\" class=\"dataframe\">\n",
       "  <thead>\n",
       "    <tr style=\"text-align: right;\">\n",
       "      <th></th>\n",
       "      <th>title</th>\n",
       "      <th>description</th>\n",
       "      <th>urls</th>\n",
       "    </tr>\n",
       "  </thead>\n",
       "  <tbody>\n",
       "    <tr>\n",
       "      <th>0</th>\n",
       "      <td>3D</td>\n",
       "      <td>3D modeling is the process of virtually develo...</td>\n",
       "      <td>https://github.com//topics/3d</td>\n",
       "    </tr>\n",
       "    <tr>\n",
       "      <th>1</th>\n",
       "      <td>Ajax</td>\n",
       "      <td>Ajax is a technique for creating interactive w...</td>\n",
       "      <td>https://github.com//topics/ajax</td>\n",
       "    </tr>\n",
       "    <tr>\n",
       "      <th>2</th>\n",
       "      <td>Algorithm</td>\n",
       "      <td>Algorithms are self-contained sequences that c...</td>\n",
       "      <td>https://github.com//topics/algorithm</td>\n",
       "    </tr>\n",
       "    <tr>\n",
       "      <th>3</th>\n",
       "      <td>Amp</td>\n",
       "      <td>Amp is a non-blocking concurrency framework fo...</td>\n",
       "      <td>https://github.com//topics/amphp</td>\n",
       "    </tr>\n",
       "    <tr>\n",
       "      <th>4</th>\n",
       "      <td>Android</td>\n",
       "      <td>Android is an operating system built by Google...</td>\n",
       "      <td>https://github.com//topics/android</td>\n",
       "    </tr>\n",
       "    <tr>\n",
       "      <th>5</th>\n",
       "      <td>Angular</td>\n",
       "      <td>Angular is an open source web application plat...</td>\n",
       "      <td>https://github.com//topics/angular</td>\n",
       "    </tr>\n",
       "    <tr>\n",
       "      <th>6</th>\n",
       "      <td>Ansible</td>\n",
       "      <td>Ansible is a simple and powerful automation en...</td>\n",
       "      <td>https://github.com//topics/ansible</td>\n",
       "    </tr>\n",
       "    <tr>\n",
       "      <th>7</th>\n",
       "      <td>API</td>\n",
       "      <td>An API (Application Programming Interface) is ...</td>\n",
       "      <td>https://github.com//topics/api</td>\n",
       "    </tr>\n",
       "    <tr>\n",
       "      <th>8</th>\n",
       "      <td>Arduino</td>\n",
       "      <td>Arduino is an open source hardware and softwar...</td>\n",
       "      <td>https://github.com//topics/arduino</td>\n",
       "    </tr>\n",
       "    <tr>\n",
       "      <th>9</th>\n",
       "      <td>ASP.NET</td>\n",
       "      <td>ASP.NET is a web framework for building modern...</td>\n",
       "      <td>https://github.com//topics/aspnet</td>\n",
       "    </tr>\n",
       "    <tr>\n",
       "      <th>10</th>\n",
       "      <td>Atom</td>\n",
       "      <td>Atom is a open source text editor built with w...</td>\n",
       "      <td>https://github.com//topics/atom</td>\n",
       "    </tr>\n",
       "    <tr>\n",
       "      <th>11</th>\n",
       "      <td>Awesome Lists</td>\n",
       "      <td>An awesome list is a list of awesome things cu...</td>\n",
       "      <td>https://github.com//topics/awesome</td>\n",
       "    </tr>\n",
       "    <tr>\n",
       "      <th>12</th>\n",
       "      <td>Amazon Web Services</td>\n",
       "      <td>Amazon Web Services provides on-demand cloud c...</td>\n",
       "      <td>https://github.com//topics/aws</td>\n",
       "    </tr>\n",
       "    <tr>\n",
       "      <th>13</th>\n",
       "      <td>Azure</td>\n",
       "      <td>Azure is a cloud computing service created by ...</td>\n",
       "      <td>https://github.com//topics/azure</td>\n",
       "    </tr>\n",
       "    <tr>\n",
       "      <th>14</th>\n",
       "      <td>Babel</td>\n",
       "      <td>Babel is a compiler for writing next generatio...</td>\n",
       "      <td>https://github.com//topics/babel</td>\n",
       "    </tr>\n",
       "    <tr>\n",
       "      <th>15</th>\n",
       "      <td>Bash</td>\n",
       "      <td>Bash is a shell and command language interpret...</td>\n",
       "      <td>https://github.com//topics/bash</td>\n",
       "    </tr>\n",
       "    <tr>\n",
       "      <th>16</th>\n",
       "      <td>Bitcoin</td>\n",
       "      <td>Bitcoin is a cryptocurrency developed by Satos...</td>\n",
       "      <td>https://github.com//topics/bitcoin</td>\n",
       "    </tr>\n",
       "    <tr>\n",
       "      <th>17</th>\n",
       "      <td>Bootstrap</td>\n",
       "      <td>Bootstrap is an HTML, CSS, and JavaScript fram...</td>\n",
       "      <td>https://github.com//topics/bootstrap</td>\n",
       "    </tr>\n",
       "    <tr>\n",
       "      <th>18</th>\n",
       "      <td>Bot</td>\n",
       "      <td>A bot is an application that runs automated ta...</td>\n",
       "      <td>https://github.com//topics/bot</td>\n",
       "    </tr>\n",
       "    <tr>\n",
       "      <th>19</th>\n",
       "      <td>C</td>\n",
       "      <td>C is a general purpose programming language th...</td>\n",
       "      <td>https://github.com//topics/c</td>\n",
       "    </tr>\n",
       "    <tr>\n",
       "      <th>20</th>\n",
       "      <td>Chrome</td>\n",
       "      <td>Chrome is a web browser from the tech company ...</td>\n",
       "      <td>https://github.com//topics/chrome</td>\n",
       "    </tr>\n",
       "    <tr>\n",
       "      <th>21</th>\n",
       "      <td>Chrome extension</td>\n",
       "      <td>Google Chrome Extensions are add-ons that allo...</td>\n",
       "      <td>https://github.com//topics/chrome-extension</td>\n",
       "    </tr>\n",
       "    <tr>\n",
       "      <th>22</th>\n",
       "      <td>Command line interface</td>\n",
       "      <td>A CLI, or command-line interface, is a console...</td>\n",
       "      <td>https://github.com//topics/cli</td>\n",
       "    </tr>\n",
       "    <tr>\n",
       "      <th>23</th>\n",
       "      <td>Clojure</td>\n",
       "      <td>Clojure is a dynamic, general-purpose programm...</td>\n",
       "      <td>https://github.com//topics/clojure</td>\n",
       "    </tr>\n",
       "    <tr>\n",
       "      <th>24</th>\n",
       "      <td>Code quality</td>\n",
       "      <td>Automate your code review with style, quality,...</td>\n",
       "      <td>https://github.com//topics/code-quality</td>\n",
       "    </tr>\n",
       "    <tr>\n",
       "      <th>25</th>\n",
       "      <td>Code review</td>\n",
       "      <td>Ensure your code meets quality standards and s...</td>\n",
       "      <td>https://github.com//topics/code-review</td>\n",
       "    </tr>\n",
       "    <tr>\n",
       "      <th>26</th>\n",
       "      <td>Compiler</td>\n",
       "      <td>Compilers are software that translate higher-l...</td>\n",
       "      <td>https://github.com//topics/compiler</td>\n",
       "    </tr>\n",
       "    <tr>\n",
       "      <th>27</th>\n",
       "      <td>Continuous integration</td>\n",
       "      <td>Automatically build and test your code as you ...</td>\n",
       "      <td>https://github.com//topics/continuous-integration</td>\n",
       "    </tr>\n",
       "    <tr>\n",
       "      <th>28</th>\n",
       "      <td>COVID-19</td>\n",
       "      <td>The coronavirus disease 2019 (COVID-19) is an ...</td>\n",
       "      <td>https://github.com//topics/covid-19</td>\n",
       "    </tr>\n",
       "    <tr>\n",
       "      <th>29</th>\n",
       "      <td>C++</td>\n",
       "      <td>C++ is a general purpose and object-oriented p...</td>\n",
       "      <td>https://github.com//topics/cpp</td>\n",
       "    </tr>\n",
       "  </tbody>\n",
       "</table>\n",
       "</div>"
      ],
      "text/plain": [
       "                     title                                        description  \\\n",
       "0                       3D  3D modeling is the process of virtually develo...   \n",
       "1                     Ajax  Ajax is a technique for creating interactive w...   \n",
       "2                Algorithm  Algorithms are self-contained sequences that c...   \n",
       "3                      Amp  Amp is a non-blocking concurrency framework fo...   \n",
       "4                  Android  Android is an operating system built by Google...   \n",
       "5                  Angular  Angular is an open source web application plat...   \n",
       "6                  Ansible  Ansible is a simple and powerful automation en...   \n",
       "7                      API  An API (Application Programming Interface) is ...   \n",
       "8                  Arduino  Arduino is an open source hardware and softwar...   \n",
       "9                  ASP.NET  ASP.NET is a web framework for building modern...   \n",
       "10                    Atom  Atom is a open source text editor built with w...   \n",
       "11           Awesome Lists  An awesome list is a list of awesome things cu...   \n",
       "12     Amazon Web Services  Amazon Web Services provides on-demand cloud c...   \n",
       "13                   Azure  Azure is a cloud computing service created by ...   \n",
       "14                   Babel  Babel is a compiler for writing next generatio...   \n",
       "15                    Bash  Bash is a shell and command language interpret...   \n",
       "16                 Bitcoin  Bitcoin is a cryptocurrency developed by Satos...   \n",
       "17               Bootstrap  Bootstrap is an HTML, CSS, and JavaScript fram...   \n",
       "18                     Bot  A bot is an application that runs automated ta...   \n",
       "19                       C  C is a general purpose programming language th...   \n",
       "20                  Chrome  Chrome is a web browser from the tech company ...   \n",
       "21        Chrome extension  Google Chrome Extensions are add-ons that allo...   \n",
       "22  Command line interface  A CLI, or command-line interface, is a console...   \n",
       "23                 Clojure  Clojure is a dynamic, general-purpose programm...   \n",
       "24            Code quality  Automate your code review with style, quality,...   \n",
       "25             Code review  Ensure your code meets quality standards and s...   \n",
       "26                Compiler  Compilers are software that translate higher-l...   \n",
       "27  Continuous integration  Automatically build and test your code as you ...   \n",
       "28                COVID-19  The coronavirus disease 2019 (COVID-19) is an ...   \n",
       "29                     C++  C++ is a general purpose and object-oriented p...   \n",
       "\n",
       "                                                 urls  \n",
       "0                       https://github.com//topics/3d  \n",
       "1                     https://github.com//topics/ajax  \n",
       "2                https://github.com//topics/algorithm  \n",
       "3                    https://github.com//topics/amphp  \n",
       "4                  https://github.com//topics/android  \n",
       "5                  https://github.com//topics/angular  \n",
       "6                  https://github.com//topics/ansible  \n",
       "7                      https://github.com//topics/api  \n",
       "8                  https://github.com//topics/arduino  \n",
       "9                   https://github.com//topics/aspnet  \n",
       "10                    https://github.com//topics/atom  \n",
       "11                 https://github.com//topics/awesome  \n",
       "12                     https://github.com//topics/aws  \n",
       "13                   https://github.com//topics/azure  \n",
       "14                   https://github.com//topics/babel  \n",
       "15                    https://github.com//topics/bash  \n",
       "16                 https://github.com//topics/bitcoin  \n",
       "17               https://github.com//topics/bootstrap  \n",
       "18                     https://github.com//topics/bot  \n",
       "19                       https://github.com//topics/c  \n",
       "20                  https://github.com//topics/chrome  \n",
       "21        https://github.com//topics/chrome-extension  \n",
       "22                     https://github.com//topics/cli  \n",
       "23                 https://github.com//topics/clojure  \n",
       "24            https://github.com//topics/code-quality  \n",
       "25             https://github.com//topics/code-review  \n",
       "26                https://github.com//topics/compiler  \n",
       "27  https://github.com//topics/continuous-integration  \n",
       "28                https://github.com//topics/covid-19  \n",
       "29                     https://github.com//topics/cpp  "
      ]
     },
     "execution_count": 103,
     "metadata": {},
     "output_type": "execute_result"
    }
   ],
   "source": [
    "scrape_topics()"
   ]
  },
  {
   "cell_type": "code",
   "execution_count": 112,
   "id": "138f1527",
   "metadata": {},
   "outputs": [],
   "source": [
    "def scrape_topics_repos():\n",
    "    topics_df=scrape_topics()\n",
    "    os.makedirs('data', exist_ok=True)\n",
    "    for index,row in topics_df.iterrows():\n",
    "        print('Scraping top repositories for \"{}\" '.format(row['title']))\n",
    "        scrape_topic(row['url'], 'data/{}.csv'.format(row['title']))"
   ]
  },
  {
   "cell_type": "code",
   "execution_count": 113,
   "id": "7dad81f1",
   "metadata": {},
   "outputs": [
    {
     "name": "stdout",
     "output_type": "stream",
     "text": [
      "Scraping top repositories for \"3D\" \n"
     ]
    },
    {
     "ename": "KeyError",
     "evalue": "'url'",
     "output_type": "error",
     "traceback": [
      "\u001b[0;31m---------------------------------------------------------------------------\u001b[0m",
      "\u001b[0;31mKeyError\u001b[0m                                  Traceback (most recent call last)",
      "\u001b[0;32m/opt/conda/lib/python3.9/site-packages/pandas/core/indexes/base.py\u001b[0m in \u001b[0;36mget_loc\u001b[0;34m(self, key, method, tolerance)\u001b[0m\n\u001b[1;32m   3360\u001b[0m             \u001b[0;32mtry\u001b[0m\u001b[0;34m:\u001b[0m\u001b[0;34m\u001b[0m\u001b[0;34m\u001b[0m\u001b[0m\n\u001b[0;32m-> 3361\u001b[0;31m                 \u001b[0;32mreturn\u001b[0m \u001b[0mself\u001b[0m\u001b[0;34m.\u001b[0m\u001b[0m_engine\u001b[0m\u001b[0;34m.\u001b[0m\u001b[0mget_loc\u001b[0m\u001b[0;34m(\u001b[0m\u001b[0mcasted_key\u001b[0m\u001b[0;34m)\u001b[0m\u001b[0;34m\u001b[0m\u001b[0;34m\u001b[0m\u001b[0m\n\u001b[0m\u001b[1;32m   3362\u001b[0m             \u001b[0;32mexcept\u001b[0m \u001b[0mKeyError\u001b[0m \u001b[0;32mas\u001b[0m \u001b[0merr\u001b[0m\u001b[0;34m:\u001b[0m\u001b[0;34m\u001b[0m\u001b[0;34m\u001b[0m\u001b[0m\n",
      "\u001b[0;32m/opt/conda/lib/python3.9/site-packages/pandas/_libs/index.pyx\u001b[0m in \u001b[0;36mpandas._libs.index.IndexEngine.get_loc\u001b[0;34m()\u001b[0m\n",
      "\u001b[0;32m/opt/conda/lib/python3.9/site-packages/pandas/_libs/index.pyx\u001b[0m in \u001b[0;36mpandas._libs.index.IndexEngine.get_loc\u001b[0;34m()\u001b[0m\n",
      "\u001b[0;32mpandas/_libs/hashtable_class_helper.pxi\u001b[0m in \u001b[0;36mpandas._libs.hashtable.PyObjectHashTable.get_item\u001b[0;34m()\u001b[0m\n",
      "\u001b[0;32mpandas/_libs/hashtable_class_helper.pxi\u001b[0m in \u001b[0;36mpandas._libs.hashtable.PyObjectHashTable.get_item\u001b[0;34m()\u001b[0m\n",
      "\u001b[0;31mKeyError\u001b[0m: 'url'",
      "\nThe above exception was the direct cause of the following exception:\n",
      "\u001b[0;31mKeyError\u001b[0m                                  Traceback (most recent call last)",
      "\u001b[0;32m/tmp/ipykernel_42/684548971.py\u001b[0m in \u001b[0;36m<module>\u001b[0;34m\u001b[0m\n\u001b[0;32m----> 1\u001b[0;31m \u001b[0mscrape_topics_repos\u001b[0m\u001b[0;34m(\u001b[0m\u001b[0;34m)\u001b[0m\u001b[0;34m\u001b[0m\u001b[0;34m\u001b[0m\u001b[0m\n\u001b[0m",
      "\u001b[0;32m/tmp/ipykernel_42/3634459299.py\u001b[0m in \u001b[0;36mscrape_topics_repos\u001b[0;34m()\u001b[0m\n\u001b[1;32m      4\u001b[0m     \u001b[0;32mfor\u001b[0m \u001b[0mindex\u001b[0m\u001b[0;34m,\u001b[0m\u001b[0mrow\u001b[0m \u001b[0;32min\u001b[0m \u001b[0mtopics_df\u001b[0m\u001b[0;34m.\u001b[0m\u001b[0miterrows\u001b[0m\u001b[0;34m(\u001b[0m\u001b[0;34m)\u001b[0m\u001b[0;34m:\u001b[0m\u001b[0;34m\u001b[0m\u001b[0;34m\u001b[0m\u001b[0m\n\u001b[1;32m      5\u001b[0m         \u001b[0mprint\u001b[0m\u001b[0;34m(\u001b[0m\u001b[0;34m'Scraping top repositories for \"{}\" '\u001b[0m\u001b[0;34m.\u001b[0m\u001b[0mformat\u001b[0m\u001b[0;34m(\u001b[0m\u001b[0mrow\u001b[0m\u001b[0;34m[\u001b[0m\u001b[0;34m'title'\u001b[0m\u001b[0;34m]\u001b[0m\u001b[0;34m)\u001b[0m\u001b[0;34m)\u001b[0m\u001b[0;34m\u001b[0m\u001b[0;34m\u001b[0m\u001b[0m\n\u001b[0;32m----> 6\u001b[0;31m         \u001b[0mscrape_topic\u001b[0m\u001b[0;34m(\u001b[0m\u001b[0mrow\u001b[0m\u001b[0;34m[\u001b[0m\u001b[0;34m'url'\u001b[0m\u001b[0;34m]\u001b[0m\u001b[0;34m,\u001b[0m \u001b[0;34m'data/{}.csv'\u001b[0m\u001b[0;34m.\u001b[0m\u001b[0mformat\u001b[0m\u001b[0;34m(\u001b[0m\u001b[0mrow\u001b[0m\u001b[0;34m[\u001b[0m\u001b[0;34m'title'\u001b[0m\u001b[0;34m]\u001b[0m\u001b[0;34m)\u001b[0m\u001b[0;34m)\u001b[0m\u001b[0;34m\u001b[0m\u001b[0;34m\u001b[0m\u001b[0m\n\u001b[0m",
      "\u001b[0;32m/opt/conda/lib/python3.9/site-packages/pandas/core/series.py\u001b[0m in \u001b[0;36m__getitem__\u001b[0;34m(self, key)\u001b[0m\n\u001b[1;32m    940\u001b[0m \u001b[0;34m\u001b[0m\u001b[0m\n\u001b[1;32m    941\u001b[0m         \u001b[0;32melif\u001b[0m \u001b[0mkey_is_scalar\u001b[0m\u001b[0;34m:\u001b[0m\u001b[0;34m\u001b[0m\u001b[0;34m\u001b[0m\u001b[0m\n\u001b[0;32m--> 942\u001b[0;31m             \u001b[0;32mreturn\u001b[0m \u001b[0mself\u001b[0m\u001b[0;34m.\u001b[0m\u001b[0m_get_value\u001b[0m\u001b[0;34m(\u001b[0m\u001b[0mkey\u001b[0m\u001b[0;34m)\u001b[0m\u001b[0;34m\u001b[0m\u001b[0;34m\u001b[0m\u001b[0m\n\u001b[0m\u001b[1;32m    943\u001b[0m \u001b[0;34m\u001b[0m\u001b[0m\n\u001b[1;32m    944\u001b[0m         \u001b[0;32mif\u001b[0m \u001b[0mis_hashable\u001b[0m\u001b[0;34m(\u001b[0m\u001b[0mkey\u001b[0m\u001b[0;34m)\u001b[0m\u001b[0;34m:\u001b[0m\u001b[0;34m\u001b[0m\u001b[0;34m\u001b[0m\u001b[0m\n",
      "\u001b[0;32m/opt/conda/lib/python3.9/site-packages/pandas/core/series.py\u001b[0m in \u001b[0;36m_get_value\u001b[0;34m(self, label, takeable)\u001b[0m\n\u001b[1;32m   1049\u001b[0m \u001b[0;34m\u001b[0m\u001b[0m\n\u001b[1;32m   1050\u001b[0m         \u001b[0;31m# Similar to Index.get_value, but we do not fall back to positional\u001b[0m\u001b[0;34m\u001b[0m\u001b[0;34m\u001b[0m\u001b[0;34m\u001b[0m\u001b[0m\n\u001b[0;32m-> 1051\u001b[0;31m         \u001b[0mloc\u001b[0m \u001b[0;34m=\u001b[0m \u001b[0mself\u001b[0m\u001b[0;34m.\u001b[0m\u001b[0mindex\u001b[0m\u001b[0;34m.\u001b[0m\u001b[0mget_loc\u001b[0m\u001b[0;34m(\u001b[0m\u001b[0mlabel\u001b[0m\u001b[0;34m)\u001b[0m\u001b[0;34m\u001b[0m\u001b[0;34m\u001b[0m\u001b[0m\n\u001b[0m\u001b[1;32m   1052\u001b[0m         \u001b[0;32mreturn\u001b[0m \u001b[0mself\u001b[0m\u001b[0;34m.\u001b[0m\u001b[0mindex\u001b[0m\u001b[0;34m.\u001b[0m\u001b[0m_get_values_for_loc\u001b[0m\u001b[0;34m(\u001b[0m\u001b[0mself\u001b[0m\u001b[0;34m,\u001b[0m \u001b[0mloc\u001b[0m\u001b[0;34m,\u001b[0m \u001b[0mlabel\u001b[0m\u001b[0;34m)\u001b[0m\u001b[0;34m\u001b[0m\u001b[0;34m\u001b[0m\u001b[0m\n\u001b[1;32m   1053\u001b[0m \u001b[0;34m\u001b[0m\u001b[0m\n",
      "\u001b[0;32m/opt/conda/lib/python3.9/site-packages/pandas/core/indexes/base.py\u001b[0m in \u001b[0;36mget_loc\u001b[0;34m(self, key, method, tolerance)\u001b[0m\n\u001b[1;32m   3361\u001b[0m                 \u001b[0;32mreturn\u001b[0m \u001b[0mself\u001b[0m\u001b[0;34m.\u001b[0m\u001b[0m_engine\u001b[0m\u001b[0;34m.\u001b[0m\u001b[0mget_loc\u001b[0m\u001b[0;34m(\u001b[0m\u001b[0mcasted_key\u001b[0m\u001b[0;34m)\u001b[0m\u001b[0;34m\u001b[0m\u001b[0;34m\u001b[0m\u001b[0m\n\u001b[1;32m   3362\u001b[0m             \u001b[0;32mexcept\u001b[0m \u001b[0mKeyError\u001b[0m \u001b[0;32mas\u001b[0m \u001b[0merr\u001b[0m\u001b[0;34m:\u001b[0m\u001b[0;34m\u001b[0m\u001b[0;34m\u001b[0m\u001b[0m\n\u001b[0;32m-> 3363\u001b[0;31m                 \u001b[0;32mraise\u001b[0m \u001b[0mKeyError\u001b[0m\u001b[0;34m(\u001b[0m\u001b[0mkey\u001b[0m\u001b[0;34m)\u001b[0m \u001b[0;32mfrom\u001b[0m \u001b[0merr\u001b[0m\u001b[0;34m\u001b[0m\u001b[0;34m\u001b[0m\u001b[0m\n\u001b[0m\u001b[1;32m   3364\u001b[0m \u001b[0;34m\u001b[0m\u001b[0m\n\u001b[1;32m   3365\u001b[0m         \u001b[0;32mif\u001b[0m \u001b[0mis_scalar\u001b[0m\u001b[0;34m(\u001b[0m\u001b[0mkey\u001b[0m\u001b[0;34m)\u001b[0m \u001b[0;32mand\u001b[0m \u001b[0misna\u001b[0m\u001b[0;34m(\u001b[0m\u001b[0mkey\u001b[0m\u001b[0;34m)\u001b[0m \u001b[0;32mand\u001b[0m \u001b[0;32mnot\u001b[0m \u001b[0mself\u001b[0m\u001b[0;34m.\u001b[0m\u001b[0mhasnans\u001b[0m\u001b[0;34m:\u001b[0m\u001b[0;34m\u001b[0m\u001b[0;34m\u001b[0m\u001b[0m\n",
      "\u001b[0;31mKeyError\u001b[0m: 'url'"
     ]
    }
   ],
   "source": [
    "scrape_topics_repos()"
   ]
  },
  {
   "cell_type": "code",
   "execution_count": null,
   "id": "5bc858ea",
   "metadata": {},
   "outputs": [],
   "source": []
  },
  {
   "cell_type": "code",
   "execution_count": null,
   "id": "f7b86527",
   "metadata": {},
   "outputs": [],
   "source": []
  }
 ],
 "metadata": {
  "language_info": {
   "codemirror_mode": {
    "name": "ipython",
    "version": 3
   },
   "file_extension": ".py",
   "mimetype": "text/x-python",
   "name": "python",
   "nbconvert_exporter": "python",
   "pygments_lexer": "ipython3",
   "version": "3.9.6"
  }
 },
 "nbformat": 4,
 "nbformat_minor": 5
}